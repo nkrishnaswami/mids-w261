{
 "cells": [
  {
   "cell_type": "markdown",
   "metadata": {},
   "source": [
    "# DATSCI W261 ASSIGNMENT #3\n",
    "[Natarajan Krishnaswami](mailto:natarajan@krishnaswami.org)  \n",
    "Version 2016-01-27 (FINAL)  \n",
    "2016-01-30"
   ]
  },
  {
   "cell_type": "markdown",
   "metadata": {},
   "source": [
    "# SPECIAL INSTURCTIONS\n",
    "HW3 is a group exercise. Your team assignments for completing HW3 (and future homeworks) are located at:\n",
    "\n",
    "https://docs.google.com/spreadsheets/d/1ncFQl5Tovn-16slD8mYjP_nzMTPSfiGeLLzW8v_sMjg/edit?usp=sharing\n",
    "\n",
    "See column Team assignment for Homeworks in tab \"Teams for HW Assignments\"\n",
    "\n",
    "Note: please submit one homework submission per group."
   ]
  },
  {
   "cell_type": "markdown",
   "metadata": {},
   "source": [
    "# Week 3 ASSIGNMENTS\n",
    "---\n",
    "## HW3.0.\n",
    "1. What is a merge sort? Where is it used in Hadoop?\n",
    "1. How is  a combiner function in the context of Hadoop? \n",
    "1. Give an example where it can be used and justify why it should be used in the context of this problem.\n",
    "1. What is the Hadoop shuffle?"
   ]
  },
  {
   "cell_type": "markdown",
   "metadata": {},
   "source": [
    "1. **Mergesort** is a divide-and-conquer-friendly sorting algorithm based on the observations that\n",
    "  * single-item lists are sorted\n",
    "  * sorted lists may be merged with $O(n)$ comparisons in the lengths of the lists.\n",
    "  Thus, the sort consists of merging the sorted left and right halves of a list.  If the halves are a single item, they are returned, otherwise their left and right halves are sorted, merged and returned.  \n",
    "  In Hadoop,\n",
    "    * Mapper output is partitioned and sorted in RAM before being fed to the combiner in a circular buffer.\n",
    "    * Once the buffer is (almost) full, it is spilled to disk. These spill files are then also partitioned, sorted within each partition, and combined.\n",
    "    * Reducers can receive data from many mappers; these are merged and combined to produce each reducer's input.\n",
    "2. A combiner function combines mapper output to reduce the volume of data transfer to the reducers.  An algorithm should be designed to produce the same output regardless of whether they are not invoked at all or invoked many times.\n",
    "3. In the standard wordcount example, if a word is repeated in a single mapper's input, it will be emitted many times with a count of 1.  With a combiner, these will be consolidated into a single key/value before being written to spill or partition files, and before being sent to a reducer.  This can save substantial network and disk traffic.\n",
    "4. The hadoop shuffle is everything that happens between the mappers producing output and the reducers receiving input.  That is, the partitioning/sorting/combining on the mapper side, the transmission of partitions to their reducers, and the merging/combining of mappers' partition data to produce reducer input."
   ]
  },
  {
   "cell_type": "markdown",
   "metadata": {},
   "source": [
    "---\n",
    "## HW3.1\n",
    "### Use Counters to do EDA (exploratory data analysis and to monitor progress)\n",
    "Counters are lightweight objects in Hadoop that allow you to keep track of system progress in both the map and reduce stages of processing. By default, Hadoop defines a number of standard counters in \"groups\"; these show up in the jobtracker webapp, giving you information such as \"Map input records\", \"Map output records\", etc. \n",
    "\n",
    "While processing information/data using MapReduce job, it is a challenge to monitor the progress of parallel threads running across nodes of distributed clusters. Moreover, it is also complicated to distinguish between the data that has been processed and the data which is yet to be processed. The MapReduce Framework offers a provision of user-defined Counters, which can be effectively utilized to monitor the progress of data across nodes of distributed clusters.\n",
    "\n",
    "Use the Consumer Complaints  Dataset provide here to complete this question:\n",
    "\n",
    " * https://www.dropbox.com/s/vbalm3yva2rr86m/Consumer_Complaints.csv?dl=0\n",
    "\n",
    "The consumer complaints dataset consists of diverse consumer complaints, which have been reported across the United States regarding various types of loans. The dataset consists of records of the form:\n",
    "\n",
    "```\n",
    "Complaint ID,Product,Sub-product,Issue,Sub-issue,State,ZIP code,Submitted via,Date received,Date sent to company,Company,Company response,Timely response?,Consumer disputed?\n",
    "```\n",
    "\n",
    "Here’s is the first few lines of the  of the Consumer Complaints  Dataset:\n",
    "\n",
    "```\n",
    "Complaint ID,Product,Sub-product,Issue,Sub-issue,State,ZIP code,Submitted via,Date received,Date sent to company,Company,Company response,Timely response?,Consumer disputed?\n",
    "1114245,Debt collection,Medical,Disclosure verification of debt,Not given enough info to verify debt,FL,32219,Web,11/13/2014,11/13/2014,\"Choice Recovery, Inc.\",Closed with explanation,Yes,\n",
    "1114488,Debt collection,Medical,Disclosure verification of debt,Right to dispute notice not received,TX,75006,Web,11/13/2014,11/13/2014,\"Expert Global Solutions, Inc.\",In progress,Yes,\n",
    "1114255,Bank account or service,Checking account,Deposits and withdrawals,,NY,11102,Web,11/13/2014,11/13/2014,\"FNIS (Fidelity National Information Services, Inc.)\",In progress,Yes,\n",
    "1115106,Debt collection,\"Other (phone, health club, etc.)\",Communication tactics,Frequent or repeated calls,GA,31721,Web,11/13/2014,11/13/2014,\"Expert Global Solutions, Inc.\",In progress,Yes,\n",
    "```\n",
    "\n",
    "### User-defined Counters\n",
    "\n",
    "Now, let’s use Hadoop Counters to identify the number of complaints pertaining to debt collection, mortgage and other categories (all other categories get lumped into this one) in the consumer complaints dataset. Basically produce the distribution of the Product column in this dataset using counters (limited to 3 counters here).\n",
    "\n",
    "Hadoop offers Job Tracker, an UI tool to determine the status and statistics of all jobs. Using the job tracker UI, developers can view the Counters that have been created. Screenshot your  job tracker UI as your job completes and include it here. Make sure that your user defined counters are visible. \n"
   ]
  },
  {
   "cell_type": "code",
   "execution_count": 1,
   "metadata": {
    "collapsed": false
   },
   "outputs": [
    {
     "name": "stdout",
     "output_type": "stream",
     "text": [
      "--2016-01-31 21:47:29--  https://www.dropbox.com/s/vbalm3yva2rr86m/Consumer_Complaints.csv?dl=1\n",
      "Resolving www.dropbox.com (www.dropbox.com)... 108.160.172.206, 108.160.172.238\n",
      "Connecting to www.dropbox.com (www.dropbox.com)|108.160.172.206|:443... connected.\n",
      "HTTP request sent, awaiting response... 302 FOUND\n",
      "Location: https://dl.dropboxusercontent.com/content_link/IDwkBqKwOZVhCAFZzqS0P9u2XOYN0Z3KP7CrYWLsseOFaiYICK09NmQ0Sst7Nkoq/file?dl=1 [following]\n",
      "--2016-01-31 21:47:29--  https://dl.dropboxusercontent.com/content_link/IDwkBqKwOZVhCAFZzqS0P9u2XOYN0Z3KP7CrYWLsseOFaiYICK09NmQ0Sst7Nkoq/file?dl=1\n",
      "Resolving dl.dropboxusercontent.com (dl.dropboxusercontent.com)... 108.160.173.5\n",
      "Connecting to dl.dropboxusercontent.com (dl.dropboxusercontent.com)|108.160.173.5|:443... connected.\n",
      "HTTP request sent, awaiting response... 200 OK\n",
      "Length: 50906486 (49M) [text/csv]\n",
      "Saving to: ‘Consumer_Complaints.csv’\n",
      "\n",
      "Consumer_Complaints 100%[=====================>]  48.55M  12.8MB/s   in 3.9s   \n",
      "\n",
      "2016-01-31 21:47:34 (12.6 MB/s) - ‘Consumer_Complaints.csv’ saved [50906486/50906486]\n",
      "\n"
     ]
    }
   ],
   "source": [
    "# HW 3.1: fetch data\n",
    "!wget -O Consumer_Complaints.csv https://www.dropbox.com/s/vbalm3yva2rr86m/Consumer_Complaints.csv?dl=1"
   ]
  },
  {
   "cell_type": "code",
   "execution_count": 2,
   "metadata": {
    "collapsed": false
   },
   "outputs": [
    {
     "name": "stdout",
     "output_type": "stream",
     "text": [
      "Overwriting inc_counter.py\n"
     ]
    }
   ],
   "source": [
    "%%writefile inc_counter.py\n",
    "import re\n",
    "import sys\n",
    "nw=re.compile(r'\\W+')\n",
    "def increment_counter(group, counter, amount=1):\n",
    "    print('reporter:counter:{0},{1},{2}'.format(\n",
    "            nw.sub('-', group),\n",
    "            nw.sub('-', counter),\n",
    "            amount), \n",
    "        file=sys.stderr)"
   ]
  },
  {
   "cell_type": "code",
   "execution_count": 3,
   "metadata": {
    "collapsed": false
   },
   "outputs": [
    {
     "name": "stdout",
     "output_type": "stream",
     "text": [
      "Overwriting hw3.1-mapper.py\n"
     ]
    }
   ],
   "source": [
    "%%writefile hw3.1-mapper.py\n",
    "#!/opt/anaconda3/bin/python\n",
    "import re\n",
    "import sys\n",
    "from csv import DictReader\n",
    "from inc_counter import increment_counter\n",
    "\n",
    "for row in DictReader(sys.stdin):\n",
    "    if 'Product' in row:\n",
    "        increment_counter('Product', row['Product'])\n",
    "print('{0}\\t{1}'.format(1,1))\n",
    "exit(0)"
   ]
  },
  {
   "cell_type": "code",
   "execution_count": 4,
   "metadata": {
    "collapsed": false,
    "scrolled": true
   },
   "outputs": [
    {
     "name": "stdout",
     "output_type": "stream",
     "text": [
      "reporter:counter:Product,Credit-card,1\n",
      "reporter:counter:Product,Credit-card,1\n",
      "reporter:counter:Product,Credit-card,1\n",
      "reporter:counter:Product,Credit-card,1\n",
      "reporter:counter:Product,Credit-card,1\n",
      "reporter:counter:Product,Credit-card,1\n",
      "reporter:counter:Product,Credit-card,1\n",
      "reporter:counter:Product,Credit-card,1\n",
      "reporter:counter:Product,Credit-card,1\n",
      "1\t1\n",
      "0\n"
     ]
    }
   ],
   "source": [
    "%%bash\n",
    "< Consumer_Complaints.csv ./hw3.1-mapper.py 2>&1 | tail\n",
    "echo $?"
   ]
  },
  {
   "cell_type": "code",
   "execution_count": 5,
   "metadata": {
    "collapsed": false,
    "scrolled": true
   },
   "outputs": [
    {
     "name": "stdout",
     "output_type": "stream",
     "text": [
      "packageJobJar: [/tmp/hadoop-unjar4260445780332817153/] [] /tmp/streamjob6272538914397464712.jar tmpDir=null\n",
      "0\n"
     ]
    },
    {
     "name": "stderr",
     "output_type": "stream",
     "text": [
      "16/01/31 21:47:44 INFO client.RMProxy: Connecting to ResourceManager at /0.0.0.0:8032\n",
      "16/01/31 21:47:45 INFO client.RMProxy: Connecting to ResourceManager at /0.0.0.0:8032\n",
      "16/01/31 21:47:45 INFO mapred.FileInputFormat: Total input paths to process : 1\n",
      "16/01/31 21:47:45 INFO mapreduce.JobSubmitter: number of splits:2\n",
      "16/01/31 21:47:45 INFO mapreduce.JobSubmitter: Submitting tokens for job: job_1453955019658_0088\n",
      "16/01/31 21:47:46 INFO impl.YarnClientImpl: Submitted application application_1453955019658_0088\n",
      "16/01/31 21:47:46 INFO mapreduce.Job: The url to track the job: http://nkrishna-linux:8088/proxy/application_1453955019658_0088/\n",
      "16/01/31 21:47:46 INFO mapreduce.Job: Running job: job_1453955019658_0088\n",
      "16/01/31 21:47:51 INFO mapreduce.Job: Job job_1453955019658_0088 running in uber mode : false\n",
      "16/01/31 21:47:51 INFO mapreduce.Job:  map 0% reduce 0%\n",
      "16/01/31 21:48:01 INFO mapreduce.Job:  map 100% reduce 0%\n",
      "16/01/31 21:48:05 INFO mapreduce.Job:  map 100% reduce 100%\n",
      "16/01/31 21:48:06 INFO mapreduce.Job: Job job_1453955019658_0088 completed successfully\n",
      "16/01/31 21:48:06 INFO mapreduce.Job: Counters: 58\n",
      "\tFile System Counters\n",
      "\t\tFILE: Number of bytes read=50909901\n",
      "\t\tFILE: Number of bytes written=352582\n",
      "\t\tFILE: Number of read operations=0\n",
      "\t\tFILE: Number of large read operations=0\n",
      "\t\tFILE: Number of write operations=0\n",
      "\t\tHDFS: Number of bytes read=222\n",
      "\t\tHDFS: Number of bytes written=0\n",
      "\t\tHDFS: Number of read operations=2\n",
      "\t\tHDFS: Number of large read operations=0\n",
      "\t\tHDFS: Number of write operations=0\n",
      "\tJob Counters \n",
      "\t\tLaunched map tasks=2\n",
      "\t\tLaunched reduce tasks=1\n",
      "\t\tRack-local map tasks=2\n",
      "\t\tTotal time spent by all maps in occupied slots (ms)=12437\n",
      "\t\tTotal time spent by all reduces in occupied slots (ms)=2516\n",
      "\t\tTotal time spent by all map tasks (ms)=12437\n",
      "\t\tTotal time spent by all reduce tasks (ms)=2516\n",
      "\t\tTotal vcore-seconds taken by all map tasks=12437\n",
      "\t\tTotal vcore-seconds taken by all reduce tasks=2516\n",
      "\t\tTotal megabyte-seconds taken by all map tasks=12735488\n",
      "\t\tTotal megabyte-seconds taken by all reduce tasks=2576384\n",
      "\tMap-Reduce Framework\n",
      "\t\tMap input records=312913\n",
      "\t\tMap output records=2\n",
      "\t\tMap output bytes=8\n",
      "\t\tMap output materialized bytes=24\n",
      "\t\tInput split bytes=222\n",
      "\t\tCombine input records=0\n",
      "\t\tCombine output records=0\n",
      "\t\tReduce input groups=1\n",
      "\t\tReduce shuffle bytes=24\n",
      "\t\tReduce input records=2\n",
      "\t\tReduce output records=2\n",
      "\t\tSpilled Records=4\n",
      "\t\tShuffled Maps =2\n",
      "\t\tFailed Shuffles=0\n",
      "\t\tMerged Map outputs=2\n",
      "\t\tGC time elapsed (ms)=251\n",
      "\t\tCPU time spent (ms)=4380\n",
      "\t\tPhysical memory (bytes) snapshot=692060160\n",
      "\t\tVirtual memory (bytes) snapshot=5748350976\n",
      "\t\tTotal committed heap usage (bytes)=519045120\n",
      "\tProduct\n",
      "\t\tBank-account-or-service=14945\n",
      "\t\tConsumer-loan=4921\n",
      "\t\tCredit-card=14058\n",
      "\t\tCredit-reporting=27996\n",
      "\t\tDebt-collection=38938\n",
      "\t\tMoney-transfers=1183\n",
      "\t\tMortgage=43533\n",
      "\t\tPayday-loan=1579\n",
      "\t\tStudent-loan=4280\n",
      "\tShuffle Errors\n",
      "\t\tBAD_ID=0\n",
      "\t\tCONNECTION=0\n",
      "\t\tIO_ERROR=0\n",
      "\t\tWRONG_LENGTH=0\n",
      "\t\tWRONG_MAP=0\n",
      "\t\tWRONG_REDUCE=0\n",
      "\tFile Input Format Counters \n",
      "\t\tBytes Read=50909883\n",
      "\tFile Output Format Counters \n",
      "\t\tBytes Written=20\n",
      "16/01/31 21:48:06 INFO streaming.StreamJob: Output directory: file:///media/sf_berkeley/w261/hw/hw3/hw3.1-output\n"
     ]
    }
   ],
   "source": [
    "%%bash\n",
    "chmod +x hw3.1-mapper.py\n",
    "rm -rf hw3.1-output\n",
    "export HADOOP_HOME=/opt/hadoop-2.7.1\n",
    "export PATH=$PATH:$HADOOP_HOME/bin\n",
    "hadoop jar ${HADOOP_HOME}/share/hadoop/tools/lib/hadoop-streaming-2.7.1.jar \\\n",
    "  -mapper $PWD/hw3.1-mapper.py \\\n",
    "  -reducer cat \\\n",
    "  -input file://$PWD/Consumer_Complaints.csv \\\n",
    "  -output file://$PWD/hw3.1-output\n",
    "echo $?"
   ]
  },
  {
   "cell_type": "code",
   "execution_count": 6,
   "metadata": {
    "collapsed": false,
    "scrolled": false
   },
   "outputs": [
    {
     "name": "stderr",
     "output_type": "stream",
     "text": [
      "/opt/anaconda/lib/python2.7/site-packages/matplotlib/font_manager.py:273: UserWarning: Matplotlib is building the font cache using fc-list. This may take a moment.\n",
      "  warnings.warn('Matplotlib is building the font cache using fc-list. This may take a moment.')\n"
     ]
    },
    {
     "data": {
      "image/png": "[encoded data removed]",
      "text/plain": [
       "<matplotlib.figure.Figure at 0x7f54783e5e10>"
      ]
     },
     "metadata": {},
     "output_type": "display_data"
    }
   ],
   "source": [
    "import matplotlib.pyplot as plt\n",
    "import numpy as np\n",
    "%matplotlib inline\n",
    "data=np.array([\n",
    "        [\"Mortgage\", 43533],\n",
    "        [\"Debt-collection\", 38938],\n",
    "        [\"Credit-reporting\", 27996],\n",
    "        [\"Bank-account-or-service\", 14945],\n",
    "        [\"Credit-card\", 14058],\n",
    "        [\"Consumer-loan\", 4921],\n",
    "        [\"Student-loan\", 4280],\n",
    "        [\"Payday-loan\", 1579],\n",
    "        [\"Money-transfers\", 1183],\n",
    "    ])\n",
    "plt.figure(figsize=(10,10))\n",
    "cm=plt.get_cmap('jet')\n",
    "axes=plt.bar(range(0,data.shape[0]), data[:,1],\n",
    "             color=cm(np.linspace(0,1,data.shape[0])))\n",
    "plt.legend(axes, data[:,0])\n",
    "plt.show()"
   ]
  },
  {
   "cell_type": "markdown",
   "metadata": {},
   "source": [
    "---\n",
    "## HW 3.2\n",
    "### Analyze the performance of your Mappers, Combiners and Reducers using Counters\n",
    "\n",
    "For this brief study the Input file will be one record (the next line only):\n",
    "```\n",
    "foo foo quux labs foo bar quux\n",
    "```\n",
    "\n",
    "### HW 3.2a\n",
    "Perform a word count analysis of this single record dataset using a Mapper and Reducer based WordCount (i.e., no combiners are used here) using user defined Counters to count up how many time the mapper and reducer are called. What is the value of your user defined Mapper Counter, and Reducer Counter after completing this word count job. The answer  should be 1 and 4 respectively. Please explain."
   ]
  },
  {
   "cell_type": "code",
   "execution_count": 7,
   "metadata": {
    "collapsed": false
   },
   "outputs": [
    {
     "name": "stdout",
     "output_type": "stream",
     "text": [
      "Overwriting hw3.2a-input.txt\n"
     ]
    }
   ],
   "source": [
    "%%writefile hw3.2a-input.txt\n",
    "foo foo quux labs foo bar quux"
   ]
  },
  {
   "cell_type": "code",
   "execution_count": 8,
   "metadata": {
    "collapsed": false
   },
   "outputs": [
    {
     "name": "stdout",
     "output_type": "stream",
     "text": [
      "Overwriting hw3.2a-mapper.py\n"
     ]
    }
   ],
   "source": [
    "%%writefile hw3.2a-mapper.py\n",
    "#!/opt/anaconda3/bin/python\n",
    "from collections import Counter\n",
    "import sys\n",
    "from inc_counter import increment_counter\n",
    "\n",
    "for line in sys.stdin:\n",
    "    increment_counter('invocations', 'mapper')\n",
    "    for key, val in Counter(line.split()).items():\n",
    "        print('{}\\t{}'.format(key,val))"
   ]
  },
  {
   "cell_type": "code",
   "execution_count": 9,
   "metadata": {
    "collapsed": false
   },
   "outputs": [
    {
     "name": "stdout",
     "output_type": "stream",
     "text": [
      "Overwriting hw3.2a-reducer.py\n"
     ]
    }
   ],
   "source": [
    "%%writefile hw3.2a-reducer.py\n",
    "#!/opt/anaconda3/bin/python\n",
    "from collections import Counter\n",
    "import sys\n",
    "from inc_counter import increment_counter\n",
    "\n",
    "prev=None\n",
    "tot=0\n",
    "for line in sys.stdin:\n",
    "    increment_counter('invocations', 'reducer')\n",
    "    fields=line.split()\n",
    "    word=fields[0]\n",
    "    if prev and word != prev:\n",
    "        print('{}\\t{}'.format(prev,tot))\n",
    "        tot=0\n",
    "    tot+=sum(int(count) for count in fields[1:])\n",
    "    prev=word\n",
    "print('{}\\t{}'.format(prev,tot))"
   ]
  },
  {
   "cell_type": "code",
   "execution_count": 10,
   "metadata": {
    "collapsed": false,
    "scrolled": true
   },
   "outputs": [
    {
     "name": "stdout",
     "output_type": "stream",
     "text": [
      "bar\t1\n",
      "foo\t3\n",
      "labs\t1\n",
      "quux\t2\n",
      "reporter:counter:invocations,mapper,1\n",
      "reporter:counter:invocations,reducer,1\n",
      "packageJobJar: [/tmp/hadoop-unjar1245787202396111742/] [] /tmp/streamjob8898031820546262053.jar tmpDir=null\n",
      "0\n"
     ]
    },
    {
     "name": "stderr",
     "output_type": "stream",
     "text": [
      "16/01/31 21:48:25 INFO client.RMProxy: Connecting to ResourceManager at /0.0.0.0:8032\n",
      "16/01/31 21:48:25 INFO client.RMProxy: Connecting to ResourceManager at /0.0.0.0:8032\n",
      "16/01/31 21:48:26 INFO mapred.FileInputFormat: Total input paths to process : 1\n",
      "16/01/31 21:48:26 INFO mapreduce.JobSubmitter: number of splits:1\n",
      "16/01/31 21:48:26 INFO mapreduce.JobSubmitter: Submitting tokens for job: job_1453955019658_0089\n",
      "16/01/31 21:48:26 INFO impl.YarnClientImpl: Submitted application application_1453955019658_0089\n",
      "16/01/31 21:48:26 INFO mapreduce.Job: The url to track the job: http://nkrishna-linux:8088/proxy/application_1453955019658_0089/\n",
      "16/01/31 21:48:26 INFO mapreduce.Job: Running job: job_1453955019658_0089\n",
      "16/01/31 21:48:31 INFO mapreduce.Job: Job job_1453955019658_0089 running in uber mode : false\n",
      "16/01/31 21:48:31 INFO mapreduce.Job:  map 0% reduce 0%\n",
      "16/01/31 21:48:36 INFO mapreduce.Job:  map 100% reduce 0%\n",
      "16/01/31 21:48:42 INFO mapreduce.Job:  map 100% reduce 25%\n",
      "16/01/31 21:48:43 INFO mapreduce.Job:  map 100% reduce 50%\n",
      "16/01/31 21:48:45 INFO mapreduce.Job:  map 100% reduce 100%\n",
      "16/01/31 21:48:46 INFO mapreduce.Job: Job job_1453955019658_0089 completed successfully\n",
      "16/01/31 21:48:46 INFO mapreduce.Job: Counters: 51\n",
      "\tFile System Counters\n",
      "\t\tFILE: Number of bytes read=88\n",
      "\t\tFILE: Number of bytes written=587922\n",
      "\t\tFILE: Number of read operations=0\n",
      "\t\tFILE: Number of large read operations=0\n",
      "\t\tFILE: Number of write operations=0\n",
      "\t\tHDFS: Number of bytes read=104\n",
      "\t\tHDFS: Number of bytes written=0\n",
      "\t\tHDFS: Number of read operations=1\n",
      "\t\tHDFS: Number of large read operations=0\n",
      "\t\tHDFS: Number of write operations=0\n",
      "\tJob Counters \n",
      "\t\tLaunched map tasks=1\n",
      "\t\tLaunched reduce tasks=4\n",
      "\t\tRack-local map tasks=1\n",
      "\t\tTotal time spent by all maps in occupied slots (ms)=2483\n",
      "\t\tTotal time spent by all reduces in occupied slots (ms)=14391\n",
      "\t\tTotal time spent by all map tasks (ms)=2483\n",
      "\t\tTotal time spent by all reduce tasks (ms)=14391\n",
      "\t\tTotal vcore-seconds taken by all map tasks=2483\n",
      "\t\tTotal vcore-seconds taken by all reduce tasks=14391\n",
      "\t\tTotal megabyte-seconds taken by all map tasks=2542592\n",
      "\t\tTotal megabyte-seconds taken by all reduce tasks=14736384\n",
      "\tMap-Reduce Framework\n",
      "\t\tMap input records=1\n",
      "\t\tMap output records=4\n",
      "\t\tMap output bytes=26\n",
      "\t\tMap output materialized bytes=58\n",
      "\t\tInput split bytes=104\n",
      "\t\tCombine input records=0\n",
      "\t\tCombine output records=0\n",
      "\t\tReduce input groups=4\n",
      "\t\tReduce shuffle bytes=58\n",
      "\t\tReduce input records=4\n",
      "\t\tReduce output records=4\n",
      "\t\tSpilled Records=8\n",
      "\t\tShuffled Maps =4\n",
      "\t\tFailed Shuffles=0\n",
      "\t\tMerged Map outputs=4\n",
      "\t\tGC time elapsed (ms)=445\n",
      "\t\tCPU time spent (ms)=2280\n",
      "\t\tPhysical memory (bytes) snapshot=896864256\n",
      "\t\tVirtual memory (bytes) snapshot=9580752896\n",
      "\t\tTotal committed heap usage (bytes)=737148928\n",
      "\tShuffle Errors\n",
      "\t\tBAD_ID=0\n",
      "\t\tCONNECTION=0\n",
      "\t\tIO_ERROR=0\n",
      "\t\tWRONG_LENGTH=0\n",
      "\t\tWRONG_MAP=0\n",
      "\t\tWRONG_REDUCE=0\n",
      "\tinvocations\n",
      "\t\tmapper=1\n",
      "\t\treducer=4\n",
      "\tFile Input Format Counters \n",
      "\t\tBytes Read=30\n",
      "\tFile Output Format Counters \n",
      "\t\tBytes Written=74\n",
      "16/01/31 21:48:46 INFO streaming.StreamJob: Output directory: file:///media/sf_berkeley/w261/hw/hw3/hw3.2a-output\n"
     ]
    }
   ],
   "source": [
    "%%bash\n",
    "chmod +x hw3.2a*py\n",
    "rm -rf hw3.2a-output\n",
    "# sanity check\n",
    "(./hw3.2a-mapper.py < hw3.2a-input.txt | sort -k1 | ./hw3.2a-reducer.py) 2>&1 | sort -u\n",
    "# real run:\n",
    "export HADOOP_HOME=/opt/hadoop-2.7.1\n",
    "export PATH=$PATH:$HADOOP_HOME/bin\n",
    "hadoop jar ${HADOOP_HOME}/share/hadoop/tools/lib/hadoop-streaming-2.7.1.jar \\\n",
    "  -D mapreduce.job.maps=1 \\\n",
    "  -D mapreduce.job.reduces=4 \\\n",
    "  -mapper $PWD/hw3.2a-mapper.py \\\n",
    "  -reducer $PWD/hw3.2a-reducer.py \\\n",
    "  -input file://$PWD/hw3.2a-input.txt \\\n",
    "  -output file://$PWD/hw3.2a-output\n",
    "echo $?"
   ]
  },
  {
   "cell_type": "markdown",
   "metadata": {},
   "source": [
    "**Answer**:  \n",
    "The question is ill posed. By default there are 2 map tasks and 1 one reduce task created, so \"calls\" in the sense of script invocations are 2 and 1, respectively.  If number of input rows is what is intended, these are 1 (row) and 7 (words) rather than 1 and 4, since the mapper rows are not combined outside the reducer.  If the outputs of each step are considered, these are 7 and 4, respectively.  \n",
    "To force alignment, I used configured my job to use 1 mapper and 4 reducers, and to count records, and combined counts in the mapper.  There are several other ways to produce this output, all with similarly low pedagogical value."
   ]
  },
  {
   "cell_type": "markdown",
   "metadata": {},
   "source": [
    "### HW 3.2b\n",
    "Please use mulitple mappers and reducers for these jobs (at least 2 mappers and 2 reducers).\n",
    "Perform a word count analysis of the Issue column of the Consumer Complaints  Dataset using a Mapper and Reducer based WordCount (i.e., no combiners used anywhere)  using user defined Counters to count up how many time the mapper and reducer are called. What is the value of your user defined Mapper Counter, and Reducer Counter after completing your word count job. "
   ]
  },
  {
   "cell_type": "code",
   "execution_count": null,
   "metadata": {
    "collapsed": false
   },
   "outputs": [],
   "source": [
    "%%writefile hw3.2b-mapper.py\n",
    "#!/opt/anaconda3/bin/python\n",
    "from collections import Counter\n",
    "from csv import DictReader\n",
    "import sys\n",
    "from inc_counter import increment_counter\n",
    "\n",
    "for row in DictReader(sys.stdin):\n",
    "    increment_counter('invocations', 'mapper')\n",
    "    if 'Issue' in row:\n",
    "        for key,val in Counter(row['Issue'].split()).items():\n",
    "            print('{}\\t{}'.format(key, val))"
   ]
  },
  {
   "cell_type": "code",
   "execution_count": null,
   "metadata": {
    "collapsed": false
   },
   "outputs": [],
   "source": [
    "%%writefile hw3.2b-reducer.py\n",
    "#!/opt/anaconda3/bin/python\n",
    "from collections import Counter\n",
    "import sys\n",
    "from inc_counter import increment_counter\n",
    "\n",
    "prev=None\n",
    "tot=0\n",
    "for line in sys.stdin:\n",
    "    increment_counter('invocations', 'reducer')\n",
    "    fields=line.split()\n",
    "    word=fields[0]\n",
    "    if prev and word != prev:\n",
    "        print('{}\\t{}'.format(prev,tot))\n",
    "        tot=0\n",
    "    tot+=sum(int(count) for count in fields[1:])\n",
    "    prev=word\n",
    "print('{}\\t{}'.format(prev,tot))"
   ]
  },
  {
   "cell_type": "code",
   "execution_count": null,
   "metadata": {
    "collapsed": false,
    "scrolled": true
   },
   "outputs": [],
   "source": [
    "%%bash\n",
    "chmod +x hw3.2b-*.py\n",
    "rm -rf hw3.2b-output\n",
    "export HADOOP_HOME=/opt/hadoop-2.7.1\n",
    "export PATH=$PATH:$HADOOP_HOME/bin\n",
    "# sanity check\n",
    "./hw3.2b-mapper.py < Consumer_Complaints.csv | sort -k1 | ./hw3.2b-reducer.py >/dev/null\n",
    "# real run:\n",
    "hadoop jar ${HADOOP_HOME}/share/hadoop/tools/lib/hadoop-streaming-2.7.1.jar \\\n",
    "  -D mapreduce.job.maps=2 \\\n",
    "  -D mapreduce.job.reduces=2 \\\n",
    "  -mapper $PWD/hw3.2b-mapper.py \\\n",
    "  -reducer $PWD/hw3.2b-reducer.py \\\n",
    "  -input file://$PWD/Consumer_Complaints.csv \\\n",
    "  -output file://$PWD/hw3.2b-output\n",
    "echo $?"
   ]
  },
  {
   "cell_type": "markdown",
   "metadata": {},
   "source": [
    "**Answer**:  \n",
    "Using the same methodology as in 3.2.a shows the mapper processed 312911 records, and the reducer 632320."
   ]
  },
  {
   "cell_type": "markdown",
   "metadata": {},
   "source": [
    "### HW 3.2c\n",
    "Perform a word count analysis of the Issue column of the Consumer Complaints  Dataset using a Mapper, Reducer, and standalone combiner (i.e., not an in-memory combiner) based WordCount using user defined Counters to count up how many time the mapper, combiner, reducer are called. What is the value of your user defined Mapper Counter, and Reducer Counter after completing your word count job."
   ]
  },
  {
   "cell_type": "code",
   "execution_count": null,
   "metadata": {
    "collapsed": false
   },
   "outputs": [],
   "source": [
    "%%writefile hw3.2c-combiner.py\n",
    "#!/opt/anaconda3/bin/python\n",
    "from collections import Counter\n",
    "import sys\n",
    "from inc_counter import increment_counter\n",
    "\n",
    "prev=None\n",
    "tot=0\n",
    "for line in sys.stdin:\n",
    "    increment_counter('invocations', 'combiner')\n",
    "    fields=line.split()\n",
    "    word=fields[0]\n",
    "    if prev and word != prev:\n",
    "        print('{}\\t{}'.format(prev,tot))\n",
    "        tot=0\n",
    "    tot+=sum(int(count) for count in fields[1:])\n",
    "    prev=word\n",
    "print('{}\\t{}'.format(prev,tot))"
   ]
  },
  {
   "cell_type": "code",
   "execution_count": null,
   "metadata": {
    "collapsed": false
   },
   "outputs": [],
   "source": [
    "%%bash\n",
    "chmod +x hw3.2*.py\n",
    "./hw3.2a-mapper.py < hw3.2a-input.txt | sort -k1 | ./hw3.2a-reducer.py 2>&1 | sort -u\n",
    "rm -rf hw3.2c-output\n",
    "export HADOOP_HOME=/opt/hadoop-2.7.1\n",
    "export PATH=$PATH:$HADOOP_HOME/bin\n",
    "hadoop jar ${HADOOP_HOME}/share/hadoop/tools/lib/hadoop-streaming-2.7.1.jar \\\n",
    "  -D mapreduce.job.maps=2 \\\n",
    "  -D mapreduce.job.reduces=2 \\\n",
    "  -mapper $PWD/hw3.2b-mapper.py \\\n",
    "  -reducer $PWD/hw3.2b-reducer.py \\\n",
    "  -combiner $PWD/hw3.2c-combiner.py \\\n",
    "  -input file://$PWD/Consumer_Complaints.csv \\\n",
    "  -output file://$PWD/hw3.2c-output\n",
    "echo $?"
   ]
  },
  {
   "cell_type": "markdown",
   "metadata": {},
   "source": [
    "**Answer**:  \n",
    "We see that the mapper count is the same, and the combiner count is 632320 (same as reducer in 3.2b).  Since the combiner like-keyed mapper outputs are combined, however, there are only 182 key/vals passed to the reducer."
   ]
  },
  {
   "cell_type": "markdown",
   "metadata": {},
   "source": [
    "### HW 3.2d\n",
    "Using a single reducer: What are the top 50 most frequent terms in your word count analysis? Present the top 50 terms and their frequency and their relative frequency. Present the top 50 terms and their frequency and their relative frequency. If there are ties please sort the tokens in alphanumeric/string order. Present bottom 10 tokens (least frequent items). "
   ]
  },
  {
   "cell_type": "code",
   "execution_count": 42,
   "metadata": {
    "collapsed": false
   },
   "outputs": [
    {
     "name": "stdout",
     "output_type": "stream",
     "text": [
      "Overwriting hw3.2d-mapper.py\n"
     ]
    }
   ],
   "source": [
    "%%writefile hw3.2d-mapper.py\n",
    "#!/opt/anaconda3/bin/python\n",
    "from collections import Counter\n",
    "from csv import DictReader\n",
    "import re\n",
    "import sys\n",
    "nw=re.compile(r'\\W+')\n",
    "tot=0\n",
    "for row in DictReader(sys.stdin):\n",
    "    if 'Issue' in row:\n",
    "        for key,val in Counter(nw.split(row['Issue'])).items():\n",
    "            tot += val\n",
    "            print('{}\\t{}'.format(key, val))\n",
    "print('{}\\t{}'.format('*tot', tot))\n",
    "exit(0)"
   ]
  },
  {
   "cell_type": "code",
   "execution_count": 34,
   "metadata": {
    "collapsed": false
   },
   "outputs": [
    {
     "name": "stdout",
     "output_type": "stream",
     "text": [
      "Overwriting hw3.2d-reducer.py\n"
     ]
    }
   ],
   "source": [
    "%%writefile hw3.2d-reducer.py\n",
    "#!/opt/anaconda3/bin/python\n",
    "import sys\n",
    "\n",
    "prev=None\n",
    "num_terms=0\n",
    "tot=0\n",
    "for line in sys.stdin:\n",
    "    fields=line.split()\n",
    "    word=fields[0]\n",
    "    if prev and word != prev:\n",
    "        if prev=='*tot':\n",
    "            num_terms=tot\n",
    "        else:\n",
    "            print('{}\\t{}\\t{}'.format(tot,prev,1.0*tot/num_terms))\n",
    "        tot=0\n",
    "    tot+=sum(int(count) for count in fields[1:])\n",
    "    prev=word\n",
    "print('{}\\t{}\\t{}'.format(tot,prev,1.0*tot/num_terms))\n",
    "exit(0)"
   ]
  },
  {
   "cell_type": "code",
   "execution_count": 37,
   "metadata": {
    "collapsed": false
   },
   "outputs": [
    {
     "name": "stdout",
     "output_type": "stream",
     "text": [
      "Writing hw3.2d-combiner.py\n"
     ]
    }
   ],
   "source": [
    "%%writefile hw3.2d-combiner.py\n",
    "#!/opt/anaconda3/bin/python\n",
    "import sys\n",
    "\n",
    "prev=None\n",
    "tot=0\n",
    "for line in sys.stdin:\n",
    "    fields=line.split()\n",
    "    word=fields[0]\n",
    "    if prev and word != prev:\n",
    "        print('{}\\t{}'.format(prev,tot))\n",
    "        tot=0\n",
    "    tot+=sum(int(count) for count in fields[1:])\n",
    "    prev=word\n",
    "print('{}\\t{}'.format(prev,tot))\n",
    "exit(0)"
   ]
  },
  {
   "cell_type": "code",
   "execution_count": 48,
   "metadata": {
    "collapsed": false
   },
   "outputs": [
    {
     "name": "stdout",
     "output_type": "stream",
     "text": [
      "packageJobJar: [/tmp/hadoop-unjar5509660164972964732/] [] /tmp/streamjob2378645748922472149.jar tmpDir=null\n",
      "0\n"
     ]
    },
    {
     "name": "stderr",
     "output_type": "stream",
     "text": [
      "16/01/31 22:40:32 INFO client.RMProxy: Connecting to ResourceManager at /0.0.0.0:8032\n",
      "16/01/31 22:40:32 INFO client.RMProxy: Connecting to ResourceManager at /0.0.0.0:8032\n",
      "16/01/31 22:40:32 INFO mapred.FileInputFormat: Total input paths to process : 1\n",
      "16/01/31 22:40:33 INFO mapreduce.JobSubmitter: number of splits:4\n",
      "16/01/31 22:40:33 INFO mapreduce.JobSubmitter: Submitting tokens for job: job_1453955019658_0096\n",
      "16/01/31 22:40:33 INFO impl.YarnClientImpl: Submitted application application_1453955019658_0096\n",
      "16/01/31 22:40:33 INFO mapreduce.Job: The url to track the job: http://nkrishna-linux:8088/proxy/application_1453955019658_0096/\n",
      "16/01/31 22:40:33 INFO mapreduce.Job: Running job: job_1453955019658_0096\n",
      "16/01/31 22:40:38 INFO mapreduce.Job: Job job_1453955019658_0096 running in uber mode : false\n",
      "16/01/31 22:40:38 INFO mapreduce.Job:  map 0% reduce 0%\n",
      "16/01/31 22:40:47 INFO mapreduce.Job:  map 25% reduce 0%\n",
      "16/01/31 22:40:50 INFO mapreduce.Job:  map 75% reduce 0%\n",
      "16/01/31 22:40:52 INFO mapreduce.Job:  map 92% reduce 0%\n",
      "16/01/31 22:40:53 INFO mapreduce.Job:  map 100% reduce 0%\n",
      "16/01/31 22:40:54 INFO mapreduce.Job:  map 100% reduce 100%\n",
      "16/01/31 22:40:55 INFO mapreduce.Job: Job job_1453955019658_0096 completed successfully\n",
      "16/01/31 22:40:55 INFO mapreduce.Job: Counters: 49\n",
      "\tFile System Counters\n",
      "\t\tFILE: Number of bytes read=50920388\n",
      "\t\tFILE: Number of bytes written=601355\n",
      "\t\tFILE: Number of read operations=0\n",
      "\t\tFILE: Number of large read operations=0\n",
      "\t\tFILE: Number of write operations=0\n",
      "\t\tHDFS: Number of bytes read=444\n",
      "\t\tHDFS: Number of bytes written=0\n",
      "\t\tHDFS: Number of read operations=4\n",
      "\t\tHDFS: Number of large read operations=0\n",
      "\t\tHDFS: Number of write operations=0\n",
      "\tJob Counters \n",
      "\t\tLaunched map tasks=4\n",
      "\t\tLaunched reduce tasks=1\n",
      "\t\tRack-local map tasks=4\n",
      "\t\tTotal time spent by all maps in occupied slots (ms)=29857\n",
      "\t\tTotal time spent by all reduces in occupied slots (ms)=4181\n",
      "\t\tTotal time spent by all map tasks (ms)=29857\n",
      "\t\tTotal time spent by all reduce tasks (ms)=4181\n",
      "\t\tTotal vcore-seconds taken by all map tasks=29857\n",
      "\t\tTotal vcore-seconds taken by all reduce tasks=4181\n",
      "\t\tTotal megabyte-seconds taken by all map tasks=30573568\n",
      "\t\tTotal megabyte-seconds taken by all reduce tasks=4281344\n",
      "\tMap-Reduce Framework\n",
      "\t\tMap input records=312913\n",
      "\t\tMap output records=353569\n",
      "\t\tMap output bytes=3676175\n",
      "\t\tMap output materialized bytes=2679\n",
      "\t\tInput split bytes=444\n",
      "\t\tCombine input records=353569\n",
      "\t\tCombine output records=194\n",
      "\t\tReduce input groups=192\n",
      "\t\tReduce shuffle bytes=2679\n",
      "\t\tReduce input records=194\n",
      "\t\tReduce output records=194\n",
      "\t\tSpilled Records=388\n",
      "\t\tShuffled Maps =4\n",
      "\t\tFailed Shuffles=0\n",
      "\t\tMerged Map outputs=4\n",
      "\t\tGC time elapsed (ms)=599\n",
      "\t\tCPU time spent (ms)=8860\n",
      "\t\tPhysical memory (bytes) snapshot=1219203072\n",
      "\t\tVirtual memory (bytes) snapshot=9584984064\n",
      "\t\tTotal committed heap usage (bytes)=925892608\n",
      "\tShuffle Errors\n",
      "\t\tBAD_ID=0\n",
      "\t\tCONNECTION=0\n",
      "\t\tIO_ERROR=0\n",
      "\t\tWRONG_LENGTH=0\n",
      "\t\tWRONG_MAP=0\n",
      "\t\tWRONG_REDUCE=0\n",
      "\tFile Input Format Counters \n",
      "\t\tBytes Read=50917727\n",
      "\tFile Output Format Counters \n",
      "\t\tBytes Written=2295\n",
      "16/01/31 22:40:55 INFO streaming.StreamJob: Output directory: file:///media/sf_berkeley/w261/hw/hw3/hw3.2d-output\n"
     ]
    }
   ],
   "source": [
    "%%bash\n",
    "chmod +x hw3.2d*py\n",
    "#./hw3.2d-mapper.py < Consumer_Complaints.csv | LANG=POSIX sort -k1 -rnk2 | ./hw3.2d-combiner.py | LANG=POSIX sort -k1 -rnk2  | head\n",
    "\n",
    "rm -rf hw3.2d-output\n",
    "export HADOOP_HOME=/opt/hadoop-2.7.1\n",
    "export PATH=$PATH:$HADOOP_HOME/bin\n",
    "hadoop jar ${HADOOP_HOME}/share/hadoop/tools/lib/hadoop-streaming-2.7.1.jar \\\n",
    "  -D mapreduce.job.output.key.comparator.class=org.apache.hadoop.mapreduce.lib.partition.KeyFieldBasedComparator \\\n",
    "  -D mapreduce.partition.keycomparator.options=\"-k2,2nr -k1\" \\\n",
    "  -D stream.num.map.output.key.fields=2 \\\n",
    "  -D mapreduce.partition.keypartitioner.options=-k1,1 \\\n",
    "  -D mapreduce.job.maps=4 \\\n",
    "  -D mapreduce.job.reduces=1 \\\n",
    "  -partitioner org.apache.hadoop.mapred.lib.KeyFieldBasedPartitioner \\\n",
    "  -mapper $PWD/hw3.2d-mapper.py \\\n",
    "  -combiner $PWD/hw3.2d-combiner.py \\\n",
    "  -reducer cat \\\n",
    "  -input file://$PWD/Consumer_Complaints.csv \\\n",
    "  -output file://$PWD/hw3.2d-output\n",
    "echo $?"
   ]
  },
  {
   "cell_type": "markdown",
   "metadata": {},
   "source": [
    "---\n",
    "## HW3.2.1 OPTIONAL \n",
    "Using 2 reducers: What are the top 50 most frequent terms in your word count analysis? Present the top 50 terms and their frequency and their relative frequency. Present the top 50 terms and their frequency and their relative frequency. If there are ties please sort the tokens in alphanumeric/string order. Present bottom 10 tokens (least frequent items). "
   ]
  },
  {
   "cell_type": "code",
   "execution_count": null,
   "metadata": {
    "collapsed": true
   },
   "outputs": [],
   "source": []
  },
  {
   "cell_type": "markdown",
   "metadata": {},
   "source": [
    "--\n",
    "## HW3.3.\n",
    "### Shopping Cart Analysis\n",
    "*Product Recommendations*: The action or practice of selling additional products or services \n",
    "to existing customers is called cross-selling. Giving product recommendation is \n",
    "one of the examples of cross-selling that are frequently used by online retailers. \n",
    "One simple method to give product recommendations is to recommend products that are frequently\n",
    "browsed together by the customers.\n",
    "\n",
    "For this homework use the online browsing behavior dataset located at: \n",
    "\n",
    "       https://www.dropbox.com/s/zlfyiwa70poqg74/ProductPurchaseData.txt?dl=0\n",
    "\n",
    "Each line in this dataset represents a browsing session of a customer.  \n",
    "On each line, each string of 8 characters represents the id of an item browsed during that session.  \n",
    "The items are separated by spaces.\n",
    "\n",
    "Here are the first few lines of the ProductPurchaseData:\n",
    "```\n",
    "FRO11987 ELE17451 ELE89019 SNA90258 GRO99222 \n",
    "GRO99222 GRO12298 FRO12685 ELE91550 SNA11465 ELE26917 ELE52966 FRO90334 SNA30755 ELE17451 FRO84225 SNA80192 \n",
    "ELE17451 GRO73461 DAI22896 SNA99873 FRO86643 \n",
    "ELE17451 ELE37798 FRO86643 GRO56989 ELE23393 SNA11465 \n",
    "ELE17451 SNA69641 FRO86643 FRO78087 SNA11465 GRO39357 ELE28573 ELE11375 DAI54444 \n",
    "```\n",
    "\n",
    "Do some exploratory data analysis of this dataset. \n",
    "\n",
    "How many unique items are available from this supplier?\n",
    "\n",
    "Using a single reducer: Report your findings such as number of unique products; largest basket; report the top 50 most frequently purchased items,  their frequency,  and their relative frequency (break ties by sorting the products alphabetical order) etc. using Hadoop Map-Reduce. "
   ]
  },
  {
   "cell_type": "code",
   "execution_count": null,
   "metadata": {
    "collapsed": true
   },
   "outputs": [],
   "source": []
  },
  {
   "cell_type": "markdown",
   "metadata": {},
   "source": [
    "## HW3.3.1 OPTIONAL \n",
    "Using 2 reducers:  Report your findings such as number of unique products; largest basket; report the top 50 most frequently purchased items,  their frequency,  and their relative frequency (break ties by sorting the products alphabetical order) etc. using Hadoop Map-Reduce. "
   ]
  },
  {
   "cell_type": "code",
   "execution_count": null,
   "metadata": {
    "collapsed": true
   },
   "outputs": [],
   "source": []
  },
  {
   "cell_type": "markdown",
   "metadata": {},
   "source": [
    "---\n",
    "## HW3.4. (Computationally prohibitive but then again Hadoop can handle this) Pairs\n",
    "\n",
    "Suppose we want to recommend new products to the customer based on the products they\n",
    "have already browsed on the online website. Write a map-reduce program \n",
    "to find products which are frequently browsed together. Fix the support count (cooccurence count) to s = 100  \n",
    "(i.e. product pairs need to occur together at least 100 times to be considered frequent) \n",
    "and find pairs of items (sometimes referred to itemsets of size 2 in association rule mining) that have a support count of 100 or more.\n",
    "\n",
    "List the top 50 product pairs with corresponding support count (aka frequency), and relative frequency or support (number of records where they coccur, the number of records where they coccur/the number of baskets in the dataset)  in decreasing order of support  for frequent (100>count) itemsets of size 2. \n",
    "\n",
    "Use the Pairs pattern (lecture 3)  to  extract these frequent itemsets of size 2. Free free to use combiners if they bring value. Instrument your code with counters for count the number of times your mapper, combiner and reducers are called.  \n",
    "\n",
    "Please output records of the following form for the top 50 pairs (itemsets of size 2): \n",
    "```\n",
    "item1, item2, support count, support\n",
    "```\n",
    "\n",
    "\n",
    "Fix the ordering of the pairs lexicographically (left to right), \n",
    "and break ties in support (between pairs, if any exist) \n",
    "by taking the first ones in lexicographically increasing order. \n",
    "\n",
    "Report  the compute time for the Pairs job. Describe the computational setup used (E.g., single computer; dual core; linux, number of mappers, number of reducers)\n",
    "\n",
    "Instrument your mapper, combiner, and reducer to count how many times each is called using Counters and report these counts."
   ]
  },
  {
   "cell_type": "code",
   "execution_count": null,
   "metadata": {
    "collapsed": true
   },
   "outputs": [],
   "source": []
  },
  {
   "cell_type": "markdown",
   "metadata": {},
   "source": [
    "---\n",
    "## HW3.5: Stripes\n",
    "Repeat 3.4 using the stripes design pattern for finding cooccuring pairs.\n",
    "\n",
    "Report  the compute times for stripes job versus the Pairs job. Describe the computational setup used (E.g., single computer; dual core; linux, number of mappers, number of reducers)\n",
    "\n",
    "Instrument your mapper, combiner, and reducer to count how many times each is called using Counters and report these counts. Discuss the differences in these counts between the Pairs and Stripes jobs"
   ]
  },
  {
   "cell_type": "code",
   "execution_count": null,
   "metadata": {
    "collapsed": true
   },
   "outputs": [],
   "source": []
  },
  {
   "cell_type": "markdown",
   "metadata": {},
   "source": [
    "---\n",
    "# OPTIONAL: All HW below this are optional \n",
    "\n",
    "**NOTE**: as of 1/28/2016 the instructions needs to be completed (Talk to Jimi)\n",
    "\n",
    "## Preliminary information\n",
    "\n",
    "Much of this homework beyond this point will focus on the Apriori algorithm for frequent itemset  mining and the additional step for extracting association rules from these frequent itemsets.\n",
    "Please acquaint yourself with the background information (below)\n",
    "before approaching the remaining  assignments.\n",
    "\n",
    "## Apriori background information\n",
    "\n",
    "Some background material for the  Apriori algorithm is located at:\n",
    "\n",
    " * Slides in Live Session #3\n",
    " * https://en.wikipedia.org/wiki/Apriori_algorithm\n",
    " * https://www.dropbox.com/s/k2zm4otych279z2/Apriori-good-slides.pdf?dl=0\n",
    " * http://snap.stanford.edu/class/cs246-2014/slides/02-assocrules.pdf\n",
    "\n",
    "*Association Rules* are frequently used for *Market Basket Analysis* (MBA) by retailers to\n",
    "understand the purchase behavior of their customers. This information can be then used for\n",
    "many different purposes such as cross-selling and up-selling of products, sales promotions,\n",
    "loyalty programs, store design, discount plans and many others.\n",
    "\n",
    "*Evaluation of item sets*: Once you have found the frequent itemsets of a dataset, you need\n",
    "to choose a subset of them as your recommendations. Commonly used metrics for measuring\n",
    "significance and interest for selecting rules for recommendations are: confidence; lift; and conviction."
   ]
  },
  {
   "cell_type": "markdown",
   "metadata": {},
   "source": [
    "---\n",
    "## HW3.6\n",
    "What is the Apriori algorithm? Describe an example use in your domain of expertise and what kind of . Define confidence and lift.\n",
    "\n",
    "**NOTE**: For the remaining homework use the online browsing behavior dataset located at (same dataset as used above): \n",
    "\n",
    "* https://www.dropbox.com/s/zlfyiwa70poqg74/ProductPurchaseData.txt?dl=0\n",
    "\n",
    "Each line in this dataset represents a browsing session of a customer.  \n",
    "On each line, each string of 8 characters represents the id of an item browsed during that session.  \n",
    "The items are separated by spaces.\n",
    "\n",
    "Here are the first few lines of the ProductPurchaseData \n",
    "```\n",
    "FRO11987 ELE17451 ELE89019 SNA90258 GRO99222 \n",
    "GRO99222 GRO12298 FRO12685 ELE91550 SNA11465 ELE26917 ELE52966 FRO90334 SNA30755 ELE17451 FRO84225 SNA80192 \n",
    "ELE17451 GRO73461 DAI22896 SNA99873 FRO86643 \n",
    "ELE17451 ELE37798 FRO86643 GRO56989 ELE23393 SNA11465 \n",
    "ELE17451 SNA69641 FRO86643 FRO78087 SNA11465 GRO39357 ELE28573 ELE11375 DAI54444 \n",
    "```"
   ]
  },
  {
   "cell_type": "code",
   "execution_count": null,
   "metadata": {
    "collapsed": true
   },
   "outputs": [],
   "source": []
  },
  {
   "cell_type": "markdown",
   "metadata": {},
   "source": [
    "## HW3.7. Shopping Cart Analysis\n",
    "*Product Recommendations*: The action or practice of selling additional products or services \n",
    "to existing customers is called cross-selling. Giving product recommendation is \n",
    "one of the examples of cross-selling that are frequently used by online retailers. \n",
    "One simple method to give product recommendations is to recommend products that are frequently\n",
    "browsed together by the customers.\n",
    "\n",
    "Suppose we want to recommend new products to the customer based on the products they\n",
    "have already browsed on the online website. Write a program using the A-priori algorithm\n",
    "to find products which are frequently browsed together. Fix the support to s = 100 \n",
    "(i.e. product sets need to occur together at least 100 times to be considered frequent) \n",
    "and find itemsets of size 2 and 3.\n",
    "\n",
    "Then extract association rules from these frequent items. \n",
    "\n",
    "A rule is of the form: \n",
    "\n",
    "    (item1, item5) ⇒ item2.\n",
    "\n",
    "List the top 10 discovered rules in descreasing order of confidence in the following format\n",
    " \n",
    "    (item1, item5) ⇒ item2, supportCount ,support, confidence"
   ]
  },
  {
   "cell_type": "markdown",
   "metadata": {},
   "source": [
    "## HW3.8\n",
    "\n",
    "Benchmark your results using the pyFIM implementation of the Apriori algorithm\n",
    "(Apriori - Association Rule Induction / Frequent Item Set Mining implemented by Christian Borgelt).  \n",
    "You can download pyFIM from here: \n",
    "\n",
    "* http://www.borgelt.net/pyfim.html\n",
    "\n",
    "Comment on the results from both implementations (your Hadoop MapReduce of apriori versus pyFIM) in terms of results and execution times."
   ]
  },
  {
   "cell_type": "markdown",
   "metadata": {},
   "source": [
    "## HW3.8 (Conceptual Exercise)\n",
    "\n",
    "Suppose that you wished to perform the Apriori algorithm once again,\n",
    "though this time now with the goal of listing the top 5 rules with corresponding confidence scores  in decreasing order of confidence score for itemsets of size 3 using Hadoop MapReduce.\n",
    "\n",
    "A rule is now of the form: \n",
    "\n",
    "    (item1, item2) ⇒ item3 \n",
    "\n",
    "Recall that the Apriori algorithm is iterative for increasing itemset size,\n",
    "working off of the frequent itemsets of the previous size to explore \n",
    "ONLY the NECESSARY subset of a large combinatorial space. \n",
    "Describe how you might design a framework to perform this exercise.\n",
    "\n",
    "In particular, focus on the following:\n",
    "\n",
    "* map-reduce steps required\n",
    "* enumeration of item sets and filtering for frequent candidates\n"
   ]
  },
  {
   "cell_type": "code",
   "execution_count": null,
   "metadata": {
    "collapsed": true
   },
   "outputs": [],
   "source": []
  }
 ],
 "metadata": {
  "kernelspec": {
   "display_name": "Python 2",
   "language": "python",
   "name": "python2"
  },
  "language_info": {
   "codemirror_mode": {
    "name": "ipython",
    "version": 2
   },
   "file_extension": ".py",
   "mimetype": "text/x-python",
   "name": "python",
   "nbconvert_exporter": "python",
   "pygments_lexer": "ipython2",
   "version": "2.7.11"
  }
 },
 "nbformat": 4,
 "nbformat_minor": 0
}
