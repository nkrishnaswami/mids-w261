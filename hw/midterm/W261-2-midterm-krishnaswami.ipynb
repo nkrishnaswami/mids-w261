{
 "cells": [
  {
   "cell_type": "markdown",
   "metadata": {},
   "source": [
    "MIDS Machine Learning at Scale MidTerm exam  \n",
    "Week 8  \n",
    "Spring, 2016\n",
    "\n",
    "Exam location is at:\n",
    "\n",
    "https://www.dropbox.com/s/jdkkttnwd88uxkl/MIDS-MLS-MidTerm-2016-Spring-Live.txt?dl=0"
   ]
  },
  {
   "cell_type": "markdown",
   "metadata": {},
   "source": [
    "# Instructions for midterm\n",
    "\n",
    "Instructions:\n",
    "\n",
    "1. Please acknowledge receipt of exam by sending a quick reply to the instructors\n",
    "2. Review the submission form first to scope it out (it will take a 5-10 minutes to input your \n",
    "   answers and other information into this form)\n",
    "3. Please keep all your work and responses in ONE (1) notebook only (and submit via the form)\n",
    "4. Please make sure that the NBViewer link for your Submission notebook works\n",
    "5. Please do NOT discuss this exam with anyone (including your class mates) until after 8AM (West coast time) Friday, March 4, 2016 \n",
    "\n",
    "Please use your live session time from week 8 to complete this mid term \n",
    "(plus an additional 30 minutes if you need it). \n",
    "This is an open book exam meaning you can consult webpages and textbooks \n",
    "(but not each other or other people). Please complete this exam by yourself.\n",
    "\n",
    "Please submit your solutions and notebook via the following form:\n",
    "\n",
    "http://goo.gl/forms/ggNYfRXz0t"
   ]
  },
  {
   "cell_type": "markdown",
   "metadata": {},
   "source": [
    "# Exam durations (All times are in California Time)\n",
    "\n",
    "Live Session Group #4 4:00 PM - 6:00 PM (Tuesday)  \n",
    "Live Session Group #2 4:00 PM - 6:00 PM (Wednesday)  \n",
    "Live Session Group #3 6:30 PM - 8:30 PM (Wednesday)"
   ]
  },
  {
   "cell_type": "markdown",
   "metadata": {},
   "source": [
    "# Exam questions begins here"
   ]
  },
  {
   "cell_type": "markdown",
   "metadata": {},
   "source": [
    "## Map-Reduce\n",
    "\n",
    "MT0. Which of the following statememts about map-reduce are true? Check all that apply.\n",
    "\n",
    "(a) If you only have 1 computer with 1 computing core, then map-reduce is unlikely to help  \n",
    "(b) If we run map-reduce using N computers, then we will always get at least an N-Fold speedup compared to using 1 computer  \n",
    "(c) Because of network latency and other overhead associated with map-reduce, if we run map-reduce using N computers, then we will get less than N-Fold speedup compared to using 1 computer  \n",
    "(d) When using map-reduce with gradient descent, we usually use a single machine that accumulates the gradients from each of the map-reduce machines, in order to compute the paramter update for the iterion"
   ]
  },
  {
   "cell_type": "markdown",
   "metadata": {},
   "source": [
    "**Answer**: a, c, d"
   ]
  },
  {
   "cell_type": "markdown",
   "metadata": {},
   "source": [
    "## Order inversion\n",
    "\n",
    "MT1. Suppose you wish to write a MapReduce job that creates \n",
    "normalized word co-occurrence data form a large input text. \n",
    "To ensure that all (potentially many) reducers\n",
    "receive appropriate normalization factors (denominators)\n",
    "in the correct order in their input streams\n",
    "(so as to minimize memory overhead), \n",
    "the mapper should emit according to which pattern:\n",
    "\n",
    "(a) emit `(*,word)` count  \n",
    "(b) There is no need to use  order inversion here  \n",
    "(c) emit `(word,*)` count  \n",
    "(d) None of the above  "
   ]
  },
  {
   "cell_type": "markdown",
   "metadata": {},
   "source": [
    "**Answer**: a -- The key should be sorted prior to the \"real\" keys corresponding to data"
   ]
  },
  {
   "cell_type": "markdown",
   "metadata": {},
   "source": [
    "## Apriori principle\n",
    "\n",
    "MT2. When searching for frequent itemsets with the Apriori algorithm\n",
    "(using a threshold, N), the Apriori principle allows us to avoid \n",
    "tracking the occurrences of the itemset {A,B,C} provided\n",
    "\n",
    "(a) all subsets of {A,B,C} occur less than N times.  \n",
    "(b) any pair of {A,B,C} occurs less than N times.  \n",
    "(c) any subset of {A,B,C} occurs less than N times.  \n",
    "(d) All of the above"
   ]
  },
  {
   "cell_type": "markdown",
   "metadata": {},
   "source": [
    "**Answer**: c -- if any subset appears fewer than $N$ times, the whole itemset cannot appear $N$ times."
   ]
  },
  {
   "cell_type": "markdown",
   "metadata": {},
   "source": [
    "## Bayesian document classification\n",
    "\n",
    "MT3. When building a Bayesian document classifier, Laplace smoothing serves what purpose?\n",
    "\n",
    "(a) It allows you to use your training data as your validation data.  \n",
    "(b) It prevents zero-products in the posterior distribution.  \n",
    "(c) It accounts for words that were missed by regular expressions.  \n",
    "(d) None of the above"
   ]
  },
  {
   "cell_type": "markdown",
   "metadata": {},
   "source": [
    "**Answer**: b -- it effectively adds a tiny amount for words not present in the corpus ($\\frac{\\alpha}{N+\\alpha}$)"
   ]
  },
  {
   "cell_type": "markdown",
   "metadata": {},
   "source": [
    "## Bias-variance tradeoff\n",
    "\n",
    "MT4. By increasing the complexity of a model regressed on some samples of data,\n",
    "it is likely that the ensemble will exhibit which of the following?\n",
    "\n",
    "(a) Increased variance and bias  \n",
    "(b) Increased variance and decreased bias  \n",
    "(c) Decreased variance and bias  \n",
    "(d) Decreased variance and increased bias"
   ]
  },
  {
   "cell_type": "markdown",
   "metadata": {},
   "source": [
    "**Answer**: b -- bias tends to drop off with model complexity.  However, alternate samples of data tend to fit vastly different models since the complex model is more apt to overfit its training data."
   ]
  },
  {
   "cell_type": "markdown",
   "metadata": {},
   "source": [
    "## Combiners\n",
    "\n",
    "MT5. Combiners can be integral to the successful utilization of the Hadoop shuffle.\n",
    "This utility is as a result of\n",
    "\n",
    "(a) minimization of reducer workload  \n",
    "(b) both (a) and (c)  \n",
    "(c) minimization of network traffic  \n",
    "(d) none of the above"
   ]
  },
  {
   "cell_type": "markdown",
   "metadata": {},
   "source": [
    "**Answer**: b"
   ]
  },
  {
   "cell_type": "markdown",
   "metadata": {},
   "source": [
    "## Pairwise similarity using K-L divergence\n",
    "\n",
    "In probability theory and information theory, the Kullback–Leibler divergence \n",
    "(also information divergence, information gain, relative entropy, KLIC, or KL divergence) \n",
    "is a non-symmetric measure of the difference between two probability distributions $P$ and $Q$. \n",
    "Specifically, the Kullback–Leibler divergence of $Q$ from $P$, denoted $\\mathrm{DKL}(P\\Vert Q)$,\n",
    "is a measure of the information lost when $Q$ is used to approximate $P$:\n",
    "\n",
    "For discrete probability distributions $P$ and $Q$, \n",
    "the Kullback–Leibler divergence of $Q$ from $P$ is defined to be\n",
    "\n",
    "$$\\mathrm{KLDistance}(P, Q) = \\sum_i P(i)\\, \\log\\left(\\frac{P(i)}{Q(i)}\\right)$$\n",
    "\n",
    "In the extreme cases, the KL Divergence is 1 when P and Q are maximally different\n",
    "and is 0 when the two distributions are exactly the same (follow the same distribution).\n",
    "\n",
    "For more information on K-L Divergence see:\n",
    "\n",
    "https://en.wikipedia.org/wiki/Kullback%E2%80%93Leibler_divergence\n",
    "\n",
    "For the next three question we will use an MRjob class for calculating pairwise similarity \n",
    "using K-L Divergence as the similarity measure:\n",
    "\n",
    "Job 1: create inverted index (assume just two objects)  \n",
    "Job 2: calculate/accumulate the similarity of each pair of objects using K-L Divergence\n",
    "\n",
    "Download the following notebook and then fill in the code for the first reducer to calculate \n",
    "the K-L divergence of objects (letter documents) in line1 and line2, i.e., $\\mathrm{KLD}(Line1||line2)$.\n",
    "\n",
    "Here we ignore characters which are not alphabetical. And all alphabetical characters are lower-cased in the first mapper.\n",
    "\n",
    "http://nbviewer.ipython.org/urls/dl.dropbox.com/s/9onx4c2dujtkgd7/Kullback%E2%80%93Leibler%20divergence-MIDS-Midterm.ipynb\n",
    "https://www.dropbox.com/s/zr9xfhwakrxz9hc/Kullback%E2%80%93Leibler%20divergence-MIDS-Midterm.ipynb?dl=0"
   ]
  },
  {
   "cell_type": "code",
   "execution_count": 4,
   "metadata": {
    "collapsed": false
   },
   "outputs": [
    {
     "name": "stdout",
     "output_type": "stream",
     "text": [
      "Writing kltext.txt\n"
     ]
    }
   ],
   "source": [
    "%%writefile kltext.txt\n",
    "1.Data Science is an interdisciplinary field about processes and systems to extract knowledge or insights from large volumes of data in various forms (data in various forms, data in various forms, data in various forms), either structured or unstructured,[1][2] which is a continuation of some of the data analysis fields such as statistics, data mining and predictive analytics, as well as Knowledge Discovery in Databases.\n",
    "2.Machine learning is a subfield of computer science[1] that evolved from the study of pattern recognition and computational learning theory in artificial intelligence.[1] Machine learning explores the study and construction of algorithms that can learn from and make predictions on data.[2] Such algorithms operate by building a model from example inputs in order to make data-driven predictions or decisions,[3]:2 rather than following strictly static program instructions."
   ]
  },
  {
   "cell_type": "code",
   "execution_count": 10,
   "metadata": {
    "collapsed": true
   },
   "outputs": [],
   "source": [
    "%load_ext autoreload"
   ]
  },
  {
   "cell_type": "code",
   "execution_count": 108,
   "metadata": {
    "collapsed": false
   },
   "outputs": [
    {
     "name": "stdout",
     "output_type": "stream",
     "text": [
      "Overwriting kldivergence.py\n"
     ]
    }
   ],
   "source": [
    "%%writefile kldivergence.py\n",
    "#!/opt/anaconda/bin/python\n",
    "from collections import Counter\n",
    "from mrjob.job import MRJob\n",
    "from mrjob.step import MRStep\n",
    "from mrjob.protocol import JSONProtocol\n",
    "import numpy as np\n",
    "import re\n",
    "import sys\n",
    "\n",
    "class kldivergence(MRJob):\n",
    "    INTERNAL_PROTOCOL=JSONProtocol\n",
    "    def mapper1(self, _, line):\n",
    "        index = line.split('.',1)[0]\n",
    "        letter_list = re.sub(r\"[^A-Za-z]+\", '', line).lower()\n",
    "        count = Counter()\n",
    "        for l in letter_list:\n",
    "            count[l] += 1\n",
    "        # change for MT8\n",
    "        for key in count:\n",
    "            yield key, {index: (1.0+count[key])/(24.0+len(letter_list))}\n",
    "        # prev:\n",
    "        # for key in count:\n",
    "        #     yield key, {index: 1.0*count[key]/len(letter_list)}\n",
    "\n",
    "    def reducer1(self, key, values):\n",
    "        # input is inverted index posting w frequency\n",
    "        row={}\n",
    "        for val in values:\n",
    "            row.update(val)\n",
    "        p_i=row.get('1')\n",
    "        q_i=row.get('2')\n",
    "        yield key, p_i*np.log(p_i/q_i)\n",
    "        \n",
    "    def collect(self, key, value):\n",
    "        ## Print letters for MT7\n",
    "        #print \"Discarding key\", key\n",
    "        yield None, value\n",
    "    def reducer2(self, key, values):\n",
    "        yield None, sum(values)\n",
    "            \n",
    "    def steps(self):\n",
    "        return [MRStep(mapper=self.mapper1,\n",
    "                        reducer=self.reducer1),\n",
    "                MRStep(mapper=self.collect,\n",
    "                        reducer=self.reducer2)]\n",
    "\n",
    "if __name__ == '__main__':\n",
    "    kldivergence.run()"
   ]
  },
  {
   "cell_type": "code",
   "execution_count": 100,
   "metadata": {
    "collapsed": false,
    "scrolled": true
   },
   "outputs": [
    {
     "name": "stdout",
     "output_type": "stream",
     "text": [
      "Discarding key a\n",
      "Discarding key b\n",
      "Discarding key c\n",
      "Discarding key d\n",
      "Discarding key e\n",
      "Discarding key f\n",
      "Discarding key g\n",
      "Discarding key h\n",
      "Discarding key i\n",
      "Discarding key k\n",
      "Discarding key l\n",
      "Discarding key m\n",
      "Discarding key n\n",
      "Discarding key o\n",
      "Discarding key p\n",
      "Discarding key r\n",
      "Discarding key s\n",
      "Discarding key t\n",
      "Discarding key u\n",
      "Discarding key v\n",
      "Discarding key w\n",
      "Discarding key x\n",
      "Discarding key y\n",
      "(None, 0.08088278445318145)\n"
     ]
    }
   ],
   "source": [
    "%autoreload 2\n",
    "from kldivergence import kldivergence\n",
    "mr_job = kldivergence(args=['kltext.txt'])\n",
    "with mr_job.make_runner() as runner: \n",
    "    runner.run()\n",
    "    # stream_output: get access of the output \n",
    "    for line in runner.stream_output():\n",
    "        print mr_job.parse_output_line(line)"
   ]
  },
  {
   "cell_type": "markdown",
   "metadata": {},
   "source": [
    "### Questions"
   ]
  },
  {
   "cell_type": "markdown",
   "metadata": {},
   "source": [
    "MT6. Which number below is the closest to the result you get for $\\mathrm{KLD}(Line_1\\,||\\,line_2)$?\n",
    "\n",
    "(a) 0.7  \n",
    "(b) 0.5  \n",
    "(c) 0.2  \n",
    "(d) 0.1"
   ]
  },
  {
   "cell_type": "markdown",
   "metadata": {},
   "source": [
    "**Answer**: a"
   ]
  },
  {
   "cell_type": "markdown",
   "metadata": {},
   "source": [
    "MT7. Which of the following letters are missing from these character vectors?\n",
    "\n",
    "(a) p and t  \n",
    "(b) k and q  \n",
    "(c) j and q  \n",
    "(d) j and f"
   ]
  },
  {
   "cell_type": "markdown",
   "metadata": {},
   "source": [
    "**Answer**: c"
   ]
  },
  {
   "cell_type": "markdown",
   "metadata": {},
   "source": [
    "MT8. The KL divergence on multinomials is defined only when they have nonzero entries. \n",
    "For zero entries, we have to smooth distributions. Suppose we smooth in this way: \n",
    "\n",
    "$$\\frac{n_i+1}{n+24}$$\n",
    "\n",
    "where $n_i$ is the count for letter $i$ and $n$ is the total count of all letters.\n",
    "\n",
    "After smoothing, which number below is the closest to the result you get for $\\mathrm{KLD}(line_1\\,||\\,line_2)$??\n",
    "\n",
    "(a) 0.08  \n",
    "(b) 0.71  \n",
    "(c) 0.02  \n",
    "(d) 0.11"
   ]
  },
  {
   "cell_type": "code",
   "execution_count": 107,
   "metadata": {
    "collapsed": false
   },
   "outputs": [
    {
     "name": "stdout",
     "output_type": "stream",
     "text": [
      "(None, 0.06759173231460627)\n"
     ]
    }
   ],
   "source": [
    "%autoreload 2\n",
    "from kldivergence import kldivergence\n",
    "mr_job = kldivergence(args=['kltext.txt'])\n",
    "with mr_job.make_runner() as runner: \n",
    "    runner.run()\n",
    "    # stream_output: get access of the output \n",
    "    for line in runner.stream_output():\n",
    "        print mr_job.parse_output_line(line)"
   ]
  },
  {
   "cell_type": "markdown",
   "metadata": {},
   "source": [
    "**Answer**: b"
   ]
  },
  {
   "cell_type": "markdown",
   "metadata": {},
   "source": [
    "## Gradient descent\n",
    "\n",
    "MT9. Which of the following are true statements with respect to gradient descent for machine learning, where $\\alpha$ is the learning rate. Select all that apply\n",
    "\n",
    "(a) To make gradient descent converge, we must slowly decrease $\\alpha$ over time and use a combiner in the context of Hadoop.  \n",
    "(b) Gradient descent is guaranteed to find the global minimum for any function $J()$ regardless of using a combiner or not in the context of Hadoop  \n",
    "(c) Gradient descent can converge even if $\\alpha$ is kept fixed. (But $\\alpha$ cannot be too large, or else it may fail to converge.) Combiners will help speed up the process.  \n",
    "(d) For the specific choice of cost function $J()$ used in linear regression, there is no local optima (other than the global optimum)."
   ]
  },
  {
   "cell_type": "markdown",
   "metadata": {},
   "source": [
    "**Answer**: c, d"
   ]
  },
  {
   "cell_type": "markdown",
   "metadata": {},
   "source": [
    "## Weighted K-means\n",
    "\n",
    "Write a MapReduce job in MRJob to do the training at scale of a weighted K-means algorithm.\n",
    "\n",
    "You can write your own code or you can use most of the code from the following notebook:\n",
    "\n",
    "http://nbviewer.ipython.org/urls/dl.dropbox.com/s/kjtdyi10nwmk4ko/MrJobKmeans-MIDS-Midterm.ipynb\n",
    "https://www.dropbox.com/s/kjtdyi10nwmk4ko/MrJobKmeans-MIDS-Midterm.ipynb?dl=0\n",
    "\n",
    "Weight each example as follows using the inverse vector length (Euclidean norm): \n",
    "\n",
    "$$\\mathrm{weight}(\\mathbf{X})= \\lVert \\mathbf{X}\\rVert^{-1}$$, \n",
    "\n",
    "where $$\\lVert \\mathbf{X}\\rVert = \\sqrt{\\mathbf{X}\\cdot \\mathbf{X}} = \\sqrt{X_1^2 + X_2^2}$$\n",
    "\n",
    "Here $\\mathbf{X}$ is vector made up of $X_1$ and $X_2$.\n",
    "\n",
    "Using the following data answer the following questions:\n",
    "\n",
    "https://www.dropbox.com/s/ai1uc3q2ucverly/Kmeandata.csv?dl=0"
   ]
  },
  {
   "cell_type": "code",
   "execution_count": 120,
   "metadata": {
    "collapsed": false
   },
   "outputs": [],
   "source": [
    "!wget -q -O Kmeandata.csv https://www.dropbox.com/s/ai1uc3q2ucverly/Kmeandata.csv?dl=1"
   ]
  },
  {
   "cell_type": "code",
   "execution_count": 144,
   "metadata": {
    "collapsed": false,
    "scrolled": true
   },
   "outputs": [
    {
     "name": "stdout",
     "output_type": "stream",
     "text": [
      "Overwriting Kmeans.py\n"
     ]
    }
   ],
   "source": [
    "%%writefile Kmeans.py\n",
    "from itertools import chain\n",
    "from mrjob.job import MRJob\n",
    "from mrjob.step import MRJobStep\n",
    "from numpy import argmin, array, random, sqrt\n",
    "import sys\n",
    "\n",
    "#Calculate find the nearest centroid for data point \n",
    "def MinDist(datapoint, centroid_points):\n",
    "    datapoint = array(datapoint)\n",
    "    centroid_points = array(centroid_points)\n",
    "    diff = datapoint - centroid_points \n",
    "    diffsq = diff**2\n",
    "    distances = (diffsq.sum(axis = 1))**0.5\n",
    "    # Get the nearest centroid for each instance\n",
    "    min_idx = argmin(distances)\n",
    "    return min_idx\n",
    "\n",
    "#Check whether centroids converge\n",
    "def stop_criterion(centroid_points_old, centroid_points_new,T):\n",
    "    oldvalue = list(chain(*centroid_points_old))\n",
    "    newvalue = list(chain(*centroid_points_new))\n",
    "    Diff = [abs(x-y) for x, y in zip(oldvalue, newvalue)]\n",
    "    Flag = True\n",
    "    for i in Diff:\n",
    "        if(i>T):\n",
    "            Flag = False\n",
    "            break\n",
    "    return Flag\n",
    "\n",
    "\n",
    "class MRKmeans(MRJob):\n",
    "    centroid_points=[]\n",
    "    k=3 \n",
    "    def steps(self):\n",
    "        return [\n",
    "            MRJobStep(mapper_init = self.mapper_init, mapper=self.mapper,combiner = self.combiner,reducer=self.reducer)\n",
    "               ]\n",
    "    #load centroids info from file\n",
    "    def mapper_init(self):\n",
    "        with open(\"Centroids.txt\") as cent:\n",
    "            self.centroid_points = [map(float,s.split('\\n')[0].split(',')) for s in cent]\n",
    "        with open(\"Centroids.txt\", 'w') as cent:\n",
    "            pass\n",
    "    #load data and output the nearest centroid index and data point \n",
    "    def mapper(self, _, line):\n",
    "        D = (map(float,line.split(',')))\n",
    "        idx = MinDist(D,self.centroid_points)\n",
    "        w=1.0/sqrt(D[0]**2+D[1]**2)\n",
    "        yield int(idx), (w*D[0],w*D[1],w)\n",
    "    #Combine sum of data points locally\n",
    "    def combiner(self, idx, inputdata):\n",
    "        sumx = sumy = wgt = 0\n",
    "        for x,y,w in inputdata:\n",
    "            wgt = wgt + w\n",
    "            sumx = sumx + x\n",
    "            sumy = sumy + y\n",
    "        yield int(idx),(sumx,sumy,wgt)\n",
    "    #Aggregate sum for each cluster and then calculate the new centroids\n",
    "    def reducer(self, idx, inputdata):\n",
    "        centroids = [[0,0]]*self.k\n",
    "        wgt = [0]*self.k\n",
    "        distances = 0\n",
    "        for x, y, w in inputdata:\n",
    "            wgt[idx] += w\n",
    "            centroids[idx][0] += x\n",
    "            centroids[idx][1] += y\n",
    "        centroids[idx][0] /= wgt[idx]\n",
    "        centroids[idx][1] /= wgt[idx]\n",
    "        with open('Centroids.txt', 'a') as f:\n",
    "            f.writelines(str(centroids[idx][0]) + ',' + str(centroids[idx][1]) + '\\n')\n",
    "        yield idx,(centroids[idx][0],centroids[idx][1])\n",
    "        \n",
    "if __name__ == '__main__':\n",
    "    MRKmeans.run()"
   ]
  },
  {
   "cell_type": "code",
   "execution_count": 145,
   "metadata": {
    "collapsed": false,
    "scrolled": true
   },
   "outputs": [
    {
     "name": "stdout",
     "output_type": "stream",
     "text": [
      "iteration1:\n",
      "0 [-2.6816121341554244, 0.4387800225117981]\n",
      "1 [5.203939274722273, 0.18108381085421293]\n",
      "2 [0.2798236662882328, 5.147133354098043]\n",
      "\n",
      "\n",
      "iteration2:\n",
      "0 [-4.499453073691768, 0.1017143951710932]\n",
      "1 [4.7342756092123475, -0.035081051175915486]\n",
      "2 [0.10883719601553689, 4.724161916864905]\n",
      "\n",
      "\n",
      "iteration3:\n",
      "0 [-4.618233072986696, 0.01209570625589213]\n",
      "1 [4.7342756092123475, -0.035081051175915486]\n",
      "2 [0.05163332299537063, 4.637075828035132]\n",
      "\n",
      "\n",
      "iteration4:\n",
      "0 [-4.618233072986696, 0.01209570625589213]\n",
      "1 [4.7342756092123475, -0.035081051175915486]\n",
      "2 [0.05163332299537063, 4.637075828035132]\n",
      "\n",
      "\n",
      "iteration5:\n",
      "0 [-4.618233072986696, 0.01209570625589213]\n",
      "1 [4.7342756092123475, -0.035081051175915486]\n",
      "2 [0.05163332299537063, 4.637075828035132]\n",
      "\n",
      "\n",
      "iteration6:\n",
      "0 [-4.618233072986696, 0.01209570625589213]\n",
      "1 [4.7342756092123475, -0.035081051175915486]\n",
      "2 [0.05163332299537063, 4.637075828035132]\n",
      "\n",
      "\n",
      "iteration7:\n",
      "0 [-4.618233072986696, 0.01209570625589213]\n",
      "1 [4.7342756092123475, -0.035081051175915486]\n",
      "2 [0.05163332299537063, 4.637075828035132]\n",
      "\n",
      "\n",
      "iteration8:\n",
      "0 [-4.618233072986696, 0.01209570625589213]\n",
      "1 [4.7342756092123475, -0.035081051175915486]\n",
      "2 [0.05163332299537063, 4.637075828035132]\n",
      "\n",
      "\n",
      "iteration9:\n",
      "0 [-4.618233072986696, 0.01209570625589213]\n",
      "1 [4.7342756092123475, -0.035081051175915486]\n",
      "2 [0.05163332299537063, 4.637075828035132]\n",
      "\n",
      "\n",
      "iteration10:\n",
      "0 [-4.618233072986696, 0.01209570625589213]\n",
      "1 [4.7342756092123475, -0.035081051175915486]\n",
      "2 [0.05163332299537063, 4.637075828035132]\n",
      "\n",
      "\n",
      "Centroids\n",
      "\n",
      "[[-4.618233072986696, 0.01209570625589213], [4.7342756092123475, -0.035081051175915486], [0.05163332299537063, 4.637075828035132]]\n"
     ]
    }
   ],
   "source": [
    "%autoreload 2\n",
    "from numpy import random, array\n",
    "from Kmeans import MRKmeans, stop_criterion\n",
    "mr_job = MRKmeans(args=['Kmeandata.csv', '--file', 'Centroids.txt'])\n",
    "\n",
    "#Geneate initial centroids\n",
    "centroid_points = [[0,0],[6,3],[3,6]]\n",
    "k = 3\n",
    "with open('Centroids.txt', 'w+') as f:\n",
    "    f.writelines(','.join(str(j) for j in i) + '\\n' for i in centroid_points)\n",
    "\n",
    "# Update centroids iteratively\n",
    "for i in range(10):\n",
    "    # save previous centoids to check convergency\n",
    "    centroid_points_old = centroid_points[:]\n",
    "    print \"iteration\"+str(i+1)+\":\"\n",
    "    with mr_job.make_runner() as runner: \n",
    "        runner.run()\n",
    "        # stream_output: get access of the output \n",
    "        for line in runner.stream_output():\n",
    "            key,value =  mr_job.parse_output_line(line)\n",
    "            print key, value\n",
    "            centroid_points[key] = value\n",
    "    print \"\\n\"\n",
    "    i = i + 1\n",
    "print \"Centroids\\n\"\n",
    "print centroid_points"
   ]
  },
  {
   "cell_type": "markdown",
   "metadata": {},
   "source": [
    "### Questions:\n",
    "\n",
    "MT10. Which result below is the closest to the centroids you got after running your weighted K-means code for 10 iterations?\n",
    "\n",
    "(a) (-4.0,0.0), (4.0,0.0), (6.0,6.0)  \n",
    "(b) (-4.5,0.0), (4.5,0.0), (0.0,4.5)  \n",
    "(c) (-5.5,0.0), (0.0,0.0), (3.0,3.0)  \n",
    "(d) (-4.5,0.0), (-4.0,0.0), (0.0,4.5)"
   ]
  },
  {
   "cell_type": "markdown",
   "metadata": {},
   "source": [
    "**Answer**: b"
   ]
  },
  {
   "cell_type": "markdown",
   "metadata": {},
   "source": [
    "MT11. Using the result of the previous question, which number below is the closest \n",
    "to the average weighted distance between each example and its assigned (closest) centroid?\n",
    "The average weighted distance is defined as \n",
    "$$\\frac{\\sum_i \\mathrm{weighted\\_distance}_i}{\\sum_i \\mathrm{weight}_i}$$\n",
    "\n",
    "(a) 2.5  \n",
    "(b) 1.5  \n",
    "(c) 0.5  \n",
    "(d) 4.0"
   ]
  },
  {
   "cell_type": "code",
   "execution_count": 160,
   "metadata": {
    "collapsed": false
   },
   "outputs": [
    {
     "name": "stdout",
     "output_type": "stream",
     "text": [
      "1.2174445577\n"
     ]
    }
   ],
   "source": [
    "import numpy as np\n",
    "def weight(X):\n",
    "    return 1.0/np.sqrt(np.linalg.norm(X))\n",
    "\n",
    "def dist(X,Y):\n",
    "    return np.sqrt(np.linalg.norm(X-Y))\n",
    "\n",
    "cp=np.array(centroid_points)\n",
    "def classify(X):\n",
    "    return np.argmin(np.array([ dist(X, centroid) for centroid in cp[:,:]]))\n",
    "\n",
    "with open('Kmeandata.csv') as f:\n",
    "    num=0.0\n",
    "    den=0.0\n",
    "    for line in f:\n",
    "        X=np.array(line.strip().split(','), dtype=float)\n",
    "        centroid=cp[classify(X),:]\n",
    "        w=weight(X)\n",
    "        num += w*dist(X, centroid)\n",
    "        den += w\n",
    "    print num/den"
   ]
  },
  {
   "cell_type": "markdown",
   "metadata": {},
   "source": [
    "**Answer**: b"
   ]
  },
  {
   "cell_type": "markdown",
   "metadata": {},
   "source": [
    "MT12. Which of the following statements are true? Select all that apply.\n",
    "\n",
    "a)\t  Since $K$-Means is an unsupervised learning algorithm, it cannot overfit the data, and thus it is always better to have as large a number of clusters as is computationally feasible.  \n",
    "b)\t  The standard way of initializing $K$-means is setting $\\mu_1 = \\cdots = \\mu_k$ to be equal to a vector of zeros.  \n",
    "c)\t  For some datasets, the \"right\" or \"correct\" value of $K$ (the number of clusters) can be ambiguous, and hard even for a human expert looking carefully at the data to decide.  \n",
    "d)\t  A good way to initialize $K$-means is to select $K$ (distinct) examples from the training set and set the cluster centroids equal to these selected examples."
   ]
  },
  {
   "cell_type": "markdown",
   "metadata": {},
   "source": [
    "**Answer**: c, d"
   ]
  }
 ],
 "metadata": {
  "kernelspec": {
   "display_name": "Python 2",
   "language": "python",
   "name": "python2"
  },
  "language_info": {
   "codemirror_mode": {
    "name": "ipython",
    "version": 2
   },
   "file_extension": ".py",
   "mimetype": "text/x-python",
   "name": "python",
   "nbconvert_exporter": "python",
   "pygments_lexer": "ipython2",
   "version": "2.7.11"
  }
 },
 "nbformat": 4,
 "nbformat_minor": 0
}
