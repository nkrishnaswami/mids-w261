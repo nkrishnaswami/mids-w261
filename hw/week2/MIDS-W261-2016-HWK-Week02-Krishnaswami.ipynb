{
 "cells": [
  {
   "cell_type": "markdown",
   "metadata": {},
   "source": [
    "# DATSCIW261 ASSIGNMENT #2\n",
    "MIDS UC Berkeley, Machine Learning at Scale  \n",
    "DATSCIW261 ASSIGNMENT #2  \n",
    "[Natarajan Krishnaswami](mailto:natarajan@krishnaswami.org)  \n",
    "23 Jan 2016"
   ]
  },
  {
   "cell_type": "markdown",
   "metadata": {},
   "source": [
    "## INSTRUCTIONS for SUBMISSIONS\n",
    "Follow the instructions for submissions carefully.\n",
    "\n",
    "Submit your homework via the following form by  8:00AM of the following Tuesday (West Coast Time):\n",
    "\n",
    "https://docs.google.com/forms/d/1ZOr9RnIe_A06AcZDB6K1mJN4vrLeSmS2PD6Xm3eOiis/viewform?usp=send_form "
   ]
  },
  {
   "cell_type": "markdown",
   "metadata": {},
   "source": [
    "## Week 2 ASSIGNMENTS using Hadoop Streaming and Python"
   ]
  },
  {
   "cell_type": "markdown",
   "metadata": {},
   "source": [
    "### HW2.0.  \n",
    "1. What is a race condition in the context of parallel computation? Give an example.\n",
    "1. What is MapReduce?\n",
    "1. How does it differ from Hadoop?\n",
    "1. Which programming paradigm is Hadoop based on? Explain and give a simple example in code and show the code running."
   ]
  },
  {
   "cell_type": "markdown",
   "metadata": {},
   "source": [
    "**Answers**:\n",
    "1. A race condition is where concurrent work units access the same resource in ways that violate its invariants.  For a simple example, consider two threads are incrementing the same number in memory: they will each read its value, increment it in a register, and write it back.  If they do not coordinate (synchronize) to avoid interleaving their operations, a future reader can see (indeterminately) either the effect of one or both increments.  For things with more complicated state than a number, much more complicated failures and inconsistencies are possible.\n",
    "2. MapReduce is a programming model aimed at simplifying writing a class of data parallel programs (viz. dataflow graphs are DAGs), based on a proprietary Google system described in Dean and Ghemawat's MapReduce paper. The key contribution is the idea that the framework should handle fault tolerance, distributed sorting, and work distribution.\n",
    "3. Hadoop is a Java-based implementation of MapReduce, plus its necessary infrastructure and ecosystem: shared, redundant FS HDFS; resource manager YARN; etc.\n",
    "4. The programming paradigm is broadly functional, with the map and reduce corresponding to FP maps and folds, and the framework's assumption that mappers and reducers are sufficiently side-effect free that they can be run in principle wherever their input datasets reside, and only their outputs need to be passed to subsequent computations."
   ]
  },
  {
   "cell_type": "code",
   "execution_count": 1,
   "metadata": {
    "collapsed": false
   },
   "outputs": [
    {
     "name": "stdout",
     "output_type": "stream",
     "text": [
      "[1, 3, 5, 7, 9, 11, 13, 15, 17, 19]\n",
      "[2, 6, 10, 14, 18, 22, 26, 30, 34, 38]\n",
      "[2, 6, 14, 18, 22, 26, 34, 38]\n",
      "160\n"
     ]
    }
   ],
   "source": [
    "# 2.0.4 pt 2: Example of functional programming\n",
    "from functools import reduce\n",
    "# I put these in temporaries just to print.\n",
    "# The domains and ranges for each operation match \n",
    "# to permit function composition\n",
    "val=range(1,20,2); print val\n",
    "val=map(lambda x: 2*x, val); print val\n",
    "val=filter(lambda x: x%5 != 0, val); print val\n",
    "val=reduce(lambda x,y:x+y, val); print val"
   ]
  },
  {
   "cell_type": "markdown",
   "metadata": {},
   "source": [
    "### HW2.1. Sort in Hadoop MapReduce\n",
    "1. Given as input: Records of the form &lt;integer, “NA”>, where integer is any integer, and “NA” is just the empty string.  \n",
    "Output: sorted key value pairs of the form &lt;integer, “NA”> in decreasing order; what happens if you have multiple reducers? Do you need additional steps? Explain.\n",
    "2. Write code to generate N  random records of the form &lt;integer, “NA”>.   Let N = 10,000.  \n",
    "3. Write the python Hadoop streaming map-reduce job to perform this sort. Display the top 10 biggest numbers. Display the 10 smallest numbers"
   ]
  },
  {
   "cell_type": "markdown",
   "metadata": {},
   "source": [
    "1. Keys are generally mapped to partitions (which are sent to reducers) using hashing, c.f.\n",
    "https://hadoop.apache.org/docs/r2.6.3/api/src-html/org/apache/hadoop/mapreduce/lib/partition/KeyFieldBasedPartitioner.html#line.116\n",
    "However, each partition is sorted before the reducer receives it.\n",
    "To sort the whole colelction, each reducers' outputs would need to be merged.  \n",
    "Alternatively, the key space could be partitioned using an order-preserving function so that the reducers receive nonoverlapping key ranges.  In that case, the outputs could simply be concatenated to produce a fully sorted list. TeraSort uses a version of this approach by sampling the data to estimate the distribution to identify split points for each partition. Here we might do something similar by sampling the file, generating an ordering to file, and using `InputSampler.RandomSampler` with `TotalOrderPartitioner`."
   ]
  },
  {
   "cell_type": "code",
   "execution_count": 216,
   "metadata": {
    "collapsed": false,
    "scrolled": true
   },
   "outputs": [
    {
     "name": "stdout",
     "output_type": "stream",
     "text": [
      "['<7715838003323725474,>',\n",
      " '<8927907652459930346,>',\n",
      " '<926607687554684540,>',\n",
      " '<7680516555178544267,>',\n",
      " '<7944385424105986080,>',\n",
      " '<5395785193502080406,>',\n",
      " '<4046030754868128474,>',\n",
      " '<5533272548239392713,>',\n",
      " '<3182765034109757362,>',\n",
      " '<2261489640275662849,>']\n"
     ]
    }
   ],
   "source": [
    "# 2.1.2: Generate N random number records.\n",
    "import numpy as np\n",
    "import sys\n",
    "from __future__ import print_function\n",
    "from pprint import pprint\n",
    "def genRecs(n):\n",
    "    return np.random.randint(sys.maxsize, size=n)\n",
    "vals=map(lambda x: '<{0},>'.format(x), genRecs(10))\n",
    "pprint(vals)\n",
    "with open('hw2.1.2-input.txt','w') as f:\n",
    "    map(lambda x: print('<{0},>'.format(x), file=f), genRecs(10000))"
   ]
  },
  {
   "cell_type": "code",
   "execution_count": 217,
   "metadata": {
    "collapsed": false,
    "scrolled": true
   },
   "outputs": [
    {
     "name": "stdout",
     "output_type": "stream",
     "text": [
      "10000 hw2.1.2-input.txt\r\n"
     ]
    }
   ],
   "source": [
    "!wc -l hw2.1.2-input.txt"
   ]
  },
  {
   "cell_type": "code",
   "execution_count": 218,
   "metadata": {
    "collapsed": true
   },
   "outputs": [],
   "source": [
    "# 2.1.3: write map reduce job to sort"
   ]
  },
  {
   "cell_type": "code",
   "execution_count": 219,
   "metadata": {
    "collapsed": false
   },
   "outputs": [
    {
     "name": "stdout",
     "output_type": "stream",
     "text": [
      "Writing hw2.1.2-mapper.py\n"
     ]
    }
   ],
   "source": [
    "%%writefile hw2.1.2-mapper.py\n",
    "#!/usr/bin/env python\n",
    "import re\n",
    "import sys\n",
    "recfm=re.compile(r'<(\\d+),(.*)>')\n",
    "for rec in sys.stdin:\n",
    "    (key, val)=recfm.match(rec).groups()\n",
    "    # intermediate format of TSV is most conducive to using Hadoop built-in classes.\n",
    "    print('{0}\\t{1}'.format(key,val))\n",
    "sys.exit(0)"
   ]
  },
  {
   "cell_type": "code",
   "execution_count": 220,
   "metadata": {
    "collapsed": false
   },
   "outputs": [
    {
     "name": "stdout",
     "output_type": "stream",
     "text": [
      "3870687764995115412\t\r\n",
      "7860869446832126138\t\r\n",
      "7523109932569438676\t\r\n",
      "8424217397570237330\t\r\n",
      "730824256601886477\t\r\n"
     ]
    }
   ],
   "source": [
    "# test it in shell\n",
    "!chmod +x hw2.1.2-mapper.py\n",
    "!head -5 hw2.1.2-input.txt | ./hw2.1.2-mapper.py"
   ]
  },
  {
   "cell_type": "code",
   "execution_count": 221,
   "metadata": {
    "collapsed": false
   },
   "outputs": [
    {
     "name": "stdout",
     "output_type": "stream",
     "text": [
      "Writing hw2.1.2-reducer.py\n"
     ]
    }
   ],
   "source": [
    "%%writefile hw2.1.2-reducer.py\n",
    "#!/usr/bin/env python\n",
    "import re\n",
    "import sys\n",
    "recfm=re.compile(r'(\\d+)\\t(.*)')\n",
    "for rec in sys.stdin:\n",
    "    (key, val)=recfm.match(rec).groups()\n",
    "    # restore the input format\n",
    "    print('<{0},{1}>'.format(key,val))\n",
    "sys.exit(0)"
   ]
  },
  {
   "cell_type": "code",
   "execution_count": 222,
   "metadata": {
    "collapsed": false
   },
   "outputs": [
    {
     "name": "stdout",
     "output_type": "stream",
     "text": [
      "<730824256601886477,>\r\n",
      "<3870687764995115412,>\r\n",
      "<7523109932569438676,>\r\n",
      "<7860869446832126138,>\r\n",
      "<8424217397570237330,>\r\n"
     ]
    }
   ],
   "source": [
    "# test in shell\n",
    "!chmod +x hw2.1.2-reducer.py\n",
    "!head -5 hw2.1.2-input.txt | \\\n",
    " python hw2.1.2-mapper.py | \\\n",
    " sort -nk1 -t, | \\\n",
    " python hw2.1.2-reducer.py"
   ]
  },
  {
   "cell_type": "code",
   "execution_count": 223,
   "metadata": {
    "collapsed": false,
    "scrolled": true
   },
   "outputs": [
    {
     "name": "stdout",
     "output_type": "stream",
     "text": [
      "packageJobJar: [/tmp/hadoop-unjar2067734728266591533/] [] /tmp/streamjob6901630314726761557.jar tmpDir=null\r\n"
     ]
    }
   ],
   "source": [
    "!rm -fr hw2.1.2-output\n",
    "import os\n",
    "hh='/opt/hadoop-2.7.1'\n",
    "os.environ['HADOOP_ROOT_LOGGER']='WARN,DRFA'\n",
    "os.environ['HADOOP_HOME']=hh\n",
    "os.environ['PATH']+=':{0}/bin'.format(hh)\n",
    "# Here we set the key comparator to KeyFieldBasedComparator so we can compare\n",
    "# keys numerically\n",
    "!hadoop jar /opt/hadoop-2.7.1/share/hadoop/tools/lib/hadoop-streaming-2.7.1.jar \\\n",
    " -D mapreduce.job.output.key.comparator.class=org.apache.hadoop.mapred.lib.KeyFieldBasedComparator  \\\n",
    " -D mapreduce.job.text.key.comparator.options=-k1,1n \\\n",
    " -D mapreduce.partition.keycomparator.options=-k1,1n \\\n",
    " -mapper $PWD/hw2.1.2-mapper.py \\\n",
    " -reducer $PWD/hw2.1.2-reducer.py \\\n",
    " -input file://$PWD/hw2.1.2-input.txt \\\n",
    " -output file://$PWD/hw2.1.2-output \\\n",
    " -numReduceTasks 5"
   ]
  },
  {
   "cell_type": "code",
   "execution_count": 224,
   "metadata": {
    "collapsed": false,
    "scrolled": false
   },
   "outputs": [
    {
     "name": "stdout",
     "output_type": "stream",
     "text": [
      "/media/sf_berkeley/w261/hw/week2/hw2.1.2-output\n",
      "part-00000:  <13280685273349715,>\t  <9213393252186323997,>\t\n",
      "part-00001:  <3222714103870687,>\t  <9221118439061249770,>\t\n",
      "part-00002:  <1071092812250789,>\t  <9222624263153999277,>\t\n",
      "part-00003:  <336245050853835,>\t  <9221148113448026408,>\t\n",
      "part-00004:  <1161423271932505,>\t  <9215727606559301466,>\t\n"
     ]
    }
   ],
   "source": [
    "%%bash \n",
    "cd hw2.1.2-output\n",
    "pwd\n",
    "for fn in p*; do \n",
    "  # show the range of keys in each file\n",
    "  echo \"$fn:  $(head -1 $fn)  $(tail -n 1 $fn)\"\n",
    "done"
   ]
  },
  {
   "cell_type": "markdown",
   "metadata": {},
   "source": [
    "Note that the files are sorted, and that they cover overlapping key  ranges and.  \n",
    "Below I try again using some arbitrary (evenly spaced, rather than equally weighted) split points in the data range with a custom `Partitioner`"
   ]
  },
  {
   "cell_type": "code",
   "execution_count": 535,
   "metadata": {
    "collapsed": false,
    "scrolled": false
   },
   "outputs": [
    {
     "name": "stdout",
     "output_type": "stream",
     "text": [
      "Overwriting MyPartitioner.scala\n"
     ]
    }
   ],
   "source": [
    "%%writefile MyPartitioner.scala\n",
    "import org.apache.hadoop.mapred._\n",
    "import org.apache.hadoop.io._\n",
    "import scala.collection.immutable.Range\n",
    "\n",
    "class MyPartitioner extends Partitioner[Text,Text] {\n",
    "    override def configure(job: JobConf) = {}\n",
    "    override def getPartition(key: Text, value: Text, numPartitions: Int): Int = {\n",
    "        if(numPartitions==1) {\n",
    "            return(0)\n",
    "        }\n",
    "        val num=key.toString.toLong\n",
    "        // partition [Long.MinValue,Long.MaxValue] into numPartitions pieces\n",
    "        val step: Long = 2*(Long.MaxValue/numPartitions)\n",
    "        for(n <- 1 to numPartitions) {\n",
    "            if (num < (Long.MinValue + n*step)) {\n",
    "                return(n-1)\n",
    "            }\n",
    "        }\n",
    "        // We arrive here if there was a remainder calculating `step`.\n",
    "        // Ordering requies we return the final partition ID.\n",
    "        return(numPartitions-1)\n",
    "      }\n",
    "}"
   ]
  },
  {
   "cell_type": "code",
   "execution_count": 534,
   "metadata": {
    "collapsed": false,
    "scrolled": true
   },
   "outputs": [],
   "source": [
    "# build and package the class and related files\n",
    "!scalac -classpath `hadoop classpath` MyPartitioner.scala\n",
    "!rm -f MyPartitioner.jar\n",
    "!jar -cf MyPartitioner.jar MyPartitioner*.class"
   ]
  },
  {
   "cell_type": "code",
   "execution_count": 225,
   "metadata": {
    "collapsed": false,
    "scrolled": false
   },
   "outputs": [
    {
     "name": "stdout",
     "output_type": "stream",
     "text": [
      "packageJobJar: [/tmp/hadoop-unjar2985831871742788506/] [] /tmp/streamjob358739699413448177.jar tmpDir=null\r\n"
     ]
    }
   ],
   "source": [
    "!rm -fr hw2.1.2-output\n",
    "hh='/opt/hadoop-2.7.1'\n",
    "os.environ['HADOOP_HOME']=hh\n",
    "os.environ['HADOOP_CLASSPATH']=os.environ['PWD']+'/MyPartitioner.jar:/usr/share/scala/lib/scala-library.jar'\n",
    "os.environ['PATH']+=':{0}/bin'.format(hh)\n",
    "!hdfs dfs -put -f _partitions.lst .\n",
    "!hadoop jar /opt/hadoop-2.7.1/share/hadoop/tools/lib/hadoop-streaming-2.7.1.jar \\\n",
    " -libjars MyPartitioner.jar,/usr/share/scala/lib/scala-library.jar \\\n",
    " -D mapreduce.job.output.key.comparator.class=org.apache.hadoop.mapreduce.lib.partition.KeyFieldBasedComparator \\\n",
    " -D mapreduce.partition.keycomparator.options=-k1,1n \\\n",
    " -partitioner MyPartitioner \\\n",
    " -mapper $PWD/hw2.1.2-mapper.py \\\n",
    " -reducer $PWD/hw2.1.2-reducer.py \\\n",
    " -input file://$PWD/hw2.1.2-input.txt \\\n",
    " -output file://$PWD/hw2.1.2-output \\\n",
    " -numReduceTasks 2"
   ]
  },
  {
   "cell_type": "code",
   "execution_count": 226,
   "metadata": {
    "collapsed": false
   },
   "outputs": [
    {
     "name": "stdout",
     "output_type": "stream",
     "text": [
      "/media/sf_berkeley/w261/hw/week2/hw2.1.2-output\n",
      "part-00000:  <336245050853835,>\t  <4611373162031975932,>\t\n",
      "part-00001:  <4614974572471885836,>\t  <9222624263153999277,>\t\n",
      "  4979 part-00000\n",
      "  5021 part-00001\n",
      " 10000 total\n"
     ]
    }
   ],
   "source": [
    "%%bash \n",
    "cd hw2.1.2-output\n",
    "pwd\n",
    "for fn in p*; do \n",
    "  echo \"$fn:  $(head -1 $fn)  $(tail -n 1 $fn)\"\n",
    "done\n",
    "wc -l p*"
   ]
  },
  {
   "cell_type": "code",
   "execution_count": 227,
   "metadata": {
    "collapsed": false
   },
   "outputs": [
    {
     "name": "stdout",
     "output_type": "stream",
     "text": [
      "Bottom 10\n",
      "<336245050853835,>\t\n",
      "<1071092812250789,>\t\n",
      "<1161423271932505,>\t\n",
      "<3119770612557037,>\t\n",
      "<3222714103870687,>\t\n",
      "<6540983618169749,>\t\n",
      "<7672790645226854,>\t\n",
      "<10375098727484635,>\t\n",
      "<12856882285734868,>\t\n",
      "<13280685273349715,>\t\n",
      "\n",
      "Top 10\n",
      "<9210905088526305630,>\t\n",
      "<9211328889854513548,>\t\n",
      "<9212832503963111733,>\t\n",
      "<9213393252186323997,>\t\n",
      "<9213514714737628610,>\t\n",
      "<9215727606559301466,>\t\n",
      "<9221118439061249770,>\t\n",
      "<9221148113448026408,>\t\n",
      "<9222151012737340093,>\t\n",
      "<9222624263153999277,>\t\n"
     ]
    }
   ],
   "source": [
    "!echo Bottom 10\n",
    "!head -10 /media/sf_berkeley/w261/hw/week2/hw2.1.2-output/part-00000\n",
    "!echo;echo Top 10\n",
    "!tail -10 /media/sf_berkeley/w261/hw/week2/hw2.1.2-output/part-00001"
   ]
  },
  {
   "cell_type": "markdown",
   "metadata": {},
   "source": [
    "Now the parts no longer overlap, and look nicely sorted."
   ]
  },
  {
   "cell_type": "markdown",
   "metadata": {},
   "source": [
    "### HW2.2.  WORDCOUNT\n",
    "Using the Enron data from HW1 and Hadoop MapReduce streaming, write the mapper/reducer job that  will determine the word count (number of occurrences) of each white-space delimitted token (assume spaces, fullstops, comma as delimiters). Examine the word “assistance” and report its word count results.\n",
    "\n",
    " \n",
    "CROSSCHECK:\n",
    "````bash \n",
    "grep assistance enronemail_1h.txt|cut -d$'\\t' -f4| grep assistance|wc -l    \n",
    "8    \n",
    "````\n",
    "**NOTE**: \"assistance\" occurs on 8 lines but how many times does the token occur? 10 times! This is the number we are looking for!"
   ]
  },
  {
   "cell_type": "code",
   "execution_count": 228,
   "metadata": {
    "collapsed": false
   },
   "outputs": [
    {
     "name": "stdout",
     "output_type": "stream",
     "text": [
      "Writing hw2.2-mapper.py\n"
     ]
    }
   ],
   "source": [
    "%%writefile hw2.2-mapper.py\n",
    "#!/opt/anaconda/bin/python\n",
    "import re\n",
    "import sys\n",
    "# white-space delimitted token (assume spaces, fullstops, comma as delimiters)\n",
    "ws_re=re.compile(r'[ ,.]+')\n",
    "for line in sys.stdin:\n",
    "    fields=line.strip().split('\\t')\n",
    "    for field in fields[2:]:\n",
    "        if field=='NA':\n",
    "            continue\n",
    "        for word in ws_re.split(field):\n",
    "            if word:\n",
    "                print('{0}\\t1'.format(word.lower()))\n",
    "exit(0)"
   ]
  },
  {
   "cell_type": "code",
   "execution_count": 229,
   "metadata": {
    "collapsed": false
   },
   "outputs": [
    {
     "name": "stdout",
     "output_type": "stream",
     "text": [
      "Writing hw2.2-reducer.py\n"
     ]
    }
   ],
   "source": [
    "%%writefile hw2.2-reducer.py\n",
    "#!/opt/anaconda/bin/python\n",
    "import re\n",
    "import sys\n",
    "\n",
    "current=''\n",
    "for line in sys.stdin:\n",
    "    fields=line.strip().split('\\t')\n",
    "    if fields[0]!=current:\n",
    "        if current:\n",
    "            print '{0}\\t{1}'.format(current, count)\n",
    "        current=fields[0]\n",
    "        count=0\n",
    "    for field in fields[1:]:\n",
    "        try:\n",
    "            count += int(field)\n",
    "        except Exception:\n",
    "            pass\n",
    "if count and current:\n",
    "    print '{0}\\t{1}'.format(current, count)\n",
    "exit(0)"
   ]
  },
  {
   "cell_type": "code",
   "execution_count": 230,
   "metadata": {
    "collapsed": false,
    "scrolled": true
   },
   "outputs": [
    {
     "name": "stdout",
     "output_type": "stream",
     "text": [
      "christmas\t1\r\n",
      "farm\t1\r\n",
      "pictures\t1\r\n",
      "rankings\t1\r\n",
      "re:\t1\r\n",
      "thank\t1\r\n",
      "tree\t1\r\n",
      "you\t1\r\n"
     ]
    }
   ],
   "source": [
    "!chmod +x hw2.2-mapper.py hw2.2-reducer.py\n",
    "!head -2 enronemail_1h.txt | ./hw2.2-mapper.py | sort | ./hw2.2-reducer.py"
   ]
  },
  {
   "cell_type": "code",
   "execution_count": 231,
   "metadata": {
    "collapsed": false
   },
   "outputs": [
    {
     "name": "stdout",
     "output_type": "stream",
     "text": [
      "packageJobJar: [/tmp/hadoop-unjar6461975994383565167/] [] /tmp/streamjob1076855424070321881.jar tmpDir=null\r\n"
     ]
    }
   ],
   "source": [
    "!rm -fr hw2.2-output\n",
    "hh='/opt/hadoop-2.7.1'\n",
    "os.environ['HADOOP_ROOT_LOGGER']='WARN,DRFA'\n",
    "os.environ['HADOOP_HOME']=hh\n",
    "os.environ['PATH']+=':{0}/bin'.format(hh)\n",
    "!hdfs dfs -put -f _partitions.lst .\n",
    "!hadoop jar /opt/hadoop-2.7.1/share/hadoop/tools/lib/hadoop-streaming-2.7.1.jar \\\n",
    " -mapper $PWD/hw2.2-mapper.py \\\n",
    " -reducer $PWD/hw2.2-reducer.py \\\n",
    " -input file://$PWD/enronemail_1h.txt \\\n",
    " -output file://$PWD/hw2.2-output"
   ]
  },
  {
   "cell_type": "code",
   "execution_count": 232,
   "metadata": {
    "collapsed": false
   },
   "outputs": [
    {
     "name": "stdout",
     "output_type": "stream",
     "text": [
      "hw2.2-output/part-00000:assistance\t9\r\n"
     ]
    }
   ],
   "source": [
    "!grep assistance hw2.2-output/*"
   ]
  },
  {
   "cell_type": "markdown",
   "metadata": {},
   "source": [
    "### HW2.2.1\n",
    "Using Hadoop MapReduce and your wordcount job (from HW2.2) determine the top-10 occurring tokens (most frequent tokens)"
   ]
  },
  {
   "cell_type": "code",
   "execution_count": 250,
   "metadata": {
    "collapsed": false
   },
   "outputs": [
    {
     "name": "stdout",
     "output_type": "stream",
     "text": [
      "Overwriting hw2.2.1-mapper.py\n"
     ]
    }
   ],
   "source": [
    "%%writefile hw2.2.1-mapper.py\n",
    "#!/opt/anaconda/bin/python\n",
    "import sys\n",
    "# swap key and value\n",
    "for line in sys.stdin:\n",
    "    print '\\t'.join(reversed(line.strip().split('\\t')))\n",
    "exit(0)"
   ]
  },
  {
   "cell_type": "code",
   "execution_count": 251,
   "metadata": {
    "collapsed": false
   },
   "outputs": [
    {
     "name": "stdout",
     "output_type": "stream",
     "text": [
      "19\t\u0001\r\n",
      "2\t\u0001)\r\n",
      "1\t!!\r\n",
      "258\t\"\r\n",
      "1\t\"'bcli\r\n",
      "1\t\"'benewm\r\n",
      "1\t\"'bjeffrie\r\n",
      "1\t\"'blong\r\n",
      "1\t\"'bredd\r\n",
      "1\t\"'celias\r\n"
     ]
    }
   ],
   "source": [
    "!chmod +x hw2.2.1-mapper.py\n",
    "!head hw2.2-output/part-00000 | ./hw2.2.1-mapper.py"
   ]
  },
  {
   "cell_type": "code",
   "execution_count": 258,
   "metadata": {
    "collapsed": false,
    "scrolled": false
   },
   "outputs": [
    {
     "name": "stdout",
     "output_type": "stream",
     "text": [
      "packageJobJar: [/tmp/hadoop-unjar3814726418635240158/] [] /tmp/streamjob9177026242710030947.jar tmpDir=null\r\n"
     ]
    }
   ],
   "source": [
    "!rm -fr hw2.2.1-output\n",
    "hh='/opt/hadoop-2.7.1'\n",
    "os.environ['HADOOP_ROOT_LOGGER']='WARN,console'\n",
    "os.environ['HADOOP_CLASSPATH']=os.environ['PWD']+'/MyPartitioner.jar:/usr/share/scala/lib/scala-library.jar'\n",
    "os.environ['HADOOP_HOME']=hh\n",
    "os.environ['PATH']+=':{0}/bin'.format(hh)\n",
    "!hdfs dfs -put -f _partitions.lst .\n",
    "!hadoop jar /opt/hadoop-2.7.1/share/hadoop/tools/lib/hadoop-streaming-2.7.1.jar \\\n",
    " -libjars MyPartitioner.jar,/usr/share/scala/lib/scala-library.jar \\\n",
    " -D mapreduce.job.output.key.comparator.class=org.apache.hadoop.mapreduce.lib.partition.KeyFieldBasedComparator \\\n",
    " -D mapreduce.partition.keycomparator.options=-k1,1n \\\n",
    " -partitioner MyPartitioner \\\n",
    " -mapper $PWD/hw2.2.1-mapper.py \\\n",
    " -reducer org.apache.hadoop.mapred.lib.IdentityReducer \\\n",
    " -input file://$PWD/hw2.2-output/part-00000 \\\n",
    " -output file://$PWD/hw2.2.1-output \\\n",
    " -numReduceTasks 5"
   ]
  },
  {
   "cell_type": "code",
   "execution_count": 260,
   "metadata": {
    "collapsed": false,
    "scrolled": true
   },
   "outputs": [
    {
     "name": "stdout",
     "output_type": "stream",
     "text": [
      "/media/sf_berkeley/w261/hw/week2/hw2.2.1-output\n",
      "part-00000:  1\treaders'mind  1223\tthe\n",
      "part-00001:    \n",
      "part-00002:    \n",
      "part-00003:    \n",
      "part-00004:    \n",
      " 6375 part-00000\n",
      "    0 part-00001\n",
      "    0 part-00002\n",
      "    0 part-00003\n",
      "    0 part-00004\n",
      " 6375 total\n",
      "Top Ten Words:\n",
      "1223\tthe\n",
      "903\tto\n",
      "648\tand\n",
      "547\tof\n",
      "524\ta\n",
      "408\tin\n",
      "401\tyou\n",
      "382\tyour\n",
      "361\tfor\n",
      "361\t@\n"
     ]
    }
   ],
   "source": [
    "%%bash \n",
    "cd hw2.2.1-output\n",
    "pwd\n",
    "for fn in p*; do \n",
    "  echo \"$fn:  $(head -1 $fn)  $(tail -n 1 $fn)\"\n",
    "done\n",
    "wc -l p*\n",
    "echo Top Ten Words:\n",
    "tail -10 part-00000 | sort -nrk1"
   ]
  },
  {
   "cell_type": "markdown",
   "metadata": {},
   "source": [
    "### HW2.3. Multinomial NAIVE BAYES with NO Smoothing\n",
    "Using the Enron data from HW1 and Hadoop MapReduce, write  a mapper/reducer job(s) that \\\\\n",
    "will both learn  Naive Bayes classifier and classify the Enron email messages using the learnt Naive Bayes classifier. Use all white-space delimitted tokens as independent input variables (assume spaces, fullstops, commas as delimiters). Note: for multinomial Naive Bayes, the $\\Pr\\left(X=\\mathrm{“assistance”}\\vert Y=\\mathrm{SPAM}\\right)$ is calculated as follows:\n",
    "\n",
    "$$ \\frac{\\mbox{the number of times “assistance” occurs in SPAM labeled documents}}{\\mbox{the number of words in documents labeled SPAM}}$$\n",
    "\n",
    "E.g.,   “assistance” occurs 5 times in all of the documents Labeled SPAM, and the length in terms of the number of words in all documents labeled as SPAM (when concatenated) is 1,000. Then $\\Pr\\left(X=\\mathrm{“assistance”}\\vert Y=\\mathrm{SPAM}\\right) = \\frac{5}{1000}$. Note this is a multinomial estimation of the class conditional for a Naive Bayes Classifier. No smoothing is needed in this HW. Multiplying lots of probabilities, which are between 0 and 1, can result in floating-point underflow. Since $\\log(xy) = \\log(x) + \\log(y)$, it is better to perform all computations by summing logs of probabilities rather than multiplying probabilities. Please pay attention to probabilites that are zero! They will need special attention. Count up how many times you need to process a zero probabilty for each class and report. \n",
    "\n",
    "Report the performance of your learnt classifier in terms of misclassifcation error rate of your multinomial Naive Bayes Classifier. Plot a histogram of the  posterior probabilities (i.e., $\\Pr(Class|Doc)$) for each class over the training set. Summarize what you see. \n",
    "\n",
    "Error Rate = misclassification rate with respect to a provided set (say training set in this case). It is more formally defined here:\n",
    "\n",
    "Let $DF$ represent the evalution set in the following and $c(X)$ the class of document $X$:\n",
    "$$ \\mathrm{Err}(\\mathrm{Model}, DF) = \\frac{\\left\\lvert \\left\\lbrace(X, c(X)) \\in DF : c(X) \\neq \\mathrm{Model}(x)\\right\\rbrace\\right\\rvert}{\\lvert DF\\rvert}$$\n",
    "\n",
    "Where || denotes set cardinality; c(X) denotes the class of the tuple X in DF; and Model(X) denotes the class inferred by the Model “Model”"
   ]
  },
  {
   "cell_type": "code",
   "execution_count": 281,
   "metadata": {
    "collapsed": false
   },
   "outputs": [
    {
     "name": "stdout",
     "output_type": "stream",
     "text": [
      "Overwriting hw2.3-mapper.py\n"
     ]
    }
   ],
   "source": [
    "%%writefile hw2.3-mapper.py\n",
    "#!/opt/anaconda/bin/python\n",
    "from collections import Counter\n",
    "import itertools\n",
    "import re\n",
    "import sys\n",
    "\n",
    "strip_re=re.compile(r'\\W+')\n",
    "split_re=re.compile(r'''(?:\\s|\\.|[-/:,' \"@\\|+*]|\\\\)+''')\n",
    "def tokenize(*fields):\n",
    "    for field in fields:\n",
    "        if field.strip() != 'NA':\n",
    "            # expand certain contractions\n",
    "            field=re.sub(r\"'ll\\b\", \" will\", field)\n",
    "            field=re.sub(r\"n't\\b\", \" not\", field)\n",
    "            field=re.sub(r\"'re\\b\", \" are\", field)\n",
    "            field=re.sub(r\"\\bit's\\b\", \"it is\", field)\n",
    "            for word in split_re.split(field.lower()):\n",
    "                word=strip_re.sub('', word)\n",
    "                if word:\n",
    "                    yield word\n",
    "\n",
    "def main():\n",
    "    for linenum, line in enumerate(sys.stdin):\n",
    "        fields=line.split('\\t')\n",
    "        if len(fields) != 4:\n",
    "            print >>sys.stderr, \"Skipping line {0}: expected 4 fields, found {1}\".format(linenum, len(fields))\n",
    "            continue\n",
    "        docid=fields[0]\n",
    "        classid=('spam' if fields[1] == '1' else 'ham')\n",
    "        words=Counter(tokenize(fields[2], fields[3]))\n",
    "        print 'doc {0} {1} {2}'.format(docid, classid, sum(words.values()))\n",
    "        for word, count in words.items():\n",
    "            print 'term {0} {1} {2} {3}'.format(docid, classid, word, count)\n",
    "\n",
    "if __name__ == '__main__':\n",
    "    main()"
   ]
  },
  {
   "cell_type": "code",
   "execution_count": 540,
   "metadata": {
    "collapsed": false
   },
   "outputs": [
    {
     "name": "stdout",
     "output_type": "stream",
     "text": [
      "Overwriting hw2.3-reducer.py\n"
     ]
    }
   ],
   "source": [
    "%%writefile hw2.3-reducer.py\n",
    "#!/opt/anaconda/bin/python\n",
    "from collections import namedtuple, defaultdict, Counter\n",
    "import itertools\n",
    "import math\n",
    "import os\n",
    "import sys\n",
    "\n",
    "class NBClassifier(object):\n",
    "    \"\"\"Class to consume output of mapper.py to train a multinomial\n",
    "    naive Bayes classifier, and to predict classes.\n",
    "    \"\"\"\n",
    "    # little helper types to refer to mapper output fields by name instead of position\n",
    "    DocRecord=namedtuple(\"DocRecord\",['docid', 'classid', 'count'])\n",
    "    TermRecord=namedtuple(\"TermRecord\",['docid', 'classid', 'term', 'count'])\n",
    "\n",
    "    def __init__(self, alpha=0.0, floor=None):\n",
    "        \"\"\"Create a naive bayes classifier instance with the specified smoothing:\n",
    "        0 for no smoothing\n",
    "        1 for Laplace smoothing\n",
    "        Any other value for Lidstone smoothing\n",
    "        \"\"\"\n",
    "        self.alpha=alpha    # smoothing param\n",
    "        self.verbose=False  # debug logging flag\n",
    "        self.floor=floor    # min DF filter\n",
    "        self.class_counts=Counter() # count of each class for calculating priors\n",
    "        self.doc_classes={} # count of each class for calculating priors\n",
    "        self.doc_term_counts=defaultdict(lambda:defaultdict(lambda:0)) # bags of words for documents\n",
    "        self.class_term_counts=defaultdict(lambda:Counter()) # for cond prob numerators\n",
    "        self.class_tot_counts=Counter() # for cond prob denominators\n",
    "        self.class_priors=None # computed priors\n",
    "        self.cond_probs=None   # computed cond. probs\n",
    "        self.zeros=0           # count of zero probailities/docs having terms not in a class\n",
    "        self.floor_omitted=0   # count of terms occurring fewer than `floor` times\n",
    "        \n",
    "    def fit(self, iterable):\n",
    "        \"\"\"Consume mapper records and calculate probabilities\"\"\"\n",
    "        for line in iterable:\n",
    "            self._add_rec(line)\n",
    "        self._calc_priors()\n",
    "        self._calc_cond_probs()\n",
    "    def predict_proba(self, doc_term_counts):\n",
    "        \"\"\"Return class posterior probs of a list of term counts\"\"\"\n",
    "        posteriors={}\n",
    "        used={}\n",
    "        # start with the prior (log) probs for each class\n",
    "        for classid, prior in self.class_priors.items():\n",
    "            posteriors[classid]=prior\n",
    "        # then for each class\n",
    "        for classid, denom in self.class_tot_counts.items():\n",
    "            try:\n",
    "                for term, doc_count in doc_term_counts.items():\n",
    "                    # combine each term's (log) cond. prob contribution\n",
    "                    n_terms=len(self.class_term_counts[classid])\n",
    "                    term_count=self.class_term_counts[classid][term]\n",
    "                    cond_prob=math.log(term_count+self.alpha)-math.log(denom+self.alpha*n_terms)\n",
    "                    posteriors[classid]+=doc_count*cond_prob\n",
    "            except ValueError:\n",
    "                # tried to take log(0)\n",
    "                self.zeros+=1\n",
    "                posteriors[classid]=float('-inf')\n",
    "                if self.verbose:\n",
    "                    print '{0} not present in class {1} term list'.format(term, classid)\n",
    "                pass\n",
    "        return posteriors\n",
    "    \n",
    "    def predict(self, doc_term_counts):\n",
    "        \"\"\"Return class ID maximizing posterior prob of a list of term counts\"\"\"\n",
    "        posteriors=self.predict_proba(doc_term_counts)\n",
    "        return max(posteriors, key=lambda x: posteriors[x])\n",
    "\n",
    "    \n",
    "    def _add_rec(self, line):\n",
    "        \"\"\"Consume mapper-produced doc and term records\"\"\"\n",
    "        try:\n",
    "            args=line.strip().split()\n",
    "            if args[0]=='doc':\n",
    "                if self.verbose:\n",
    "                    print >>sys.stderr,\"Processing doc\", args[1]\n",
    "                rec=NBClassifier.DocRecord(args[1], args[2], int(args[3]))\n",
    "                self.doc_classes[rec.docid]=rec.classid\n",
    "                self.class_counts[rec.classid]+=1\n",
    "            elif args[0]=='term':\n",
    "                rec=NBClassifier.TermRecord(args[1], args[2], args[3], float(args[4]))\n",
    "                self.class_term_counts[rec.classid][rec.term]+=rec.count\n",
    "                self.class_tot_counts[rec.classid]+=rec.count\n",
    "                self.doc_term_counts[rec.docid][rec.term]+=rec.count\n",
    "            else:\n",
    "                print >>sys.stderr, 'Unexpected row: {0}'.format(line)\n",
    "        except ValueError, n:\n",
    "            print >>sys.stderr, line\n",
    "            raise n\n",
    "    def _calc_priors(self):\n",
    "        \"\"\"Calculate log prior probs for a doc to be in each class\"\"\"\n",
    "        doc_count=sum(self.class_counts.values())\n",
    "        self.class_priors=defaultdict(lambda:0)\n",
    "        for classid, count in self.class_counts.items():\n",
    "            self.class_priors[classid]=math.log(1.0*count/doc_count)\n",
    "\n",
    "    def _calc_cond_probs(self):\n",
    "        self.cond_probs=defaultdict(lambda:defaultdict(lambda:0))\n",
    "        for classid, denom in self.class_tot_counts.items():\n",
    "            n_terms=len(self.class_term_counts[classid])\n",
    "            for term, count in self.class_term_counts[classid].items():\n",
    "                if self.floor < count:\n",
    "                    self.cond_probs[classid][term]=math.log(count+self.alpha)-math.log(denom+self.alpha*n_terms)\n",
    "                else:\n",
    "                    self.floor_omitted+=1\n",
    "\n",
    "def main():\n",
    "    alpha=os.environ.get('alpha',0.0)\n",
    "    if isinstance(alpha, basestring):\n",
    "        try:\n",
    "            alpha=float(alpha)\n",
    "        except:\n",
    "            print >>sys.stderr,\"Unable to parse alpha; disabling smoothing\"\n",
    "            alpha=0.0\n",
    "    floor=os.environ.get('floor','0')\n",
    "    try:\n",
    "        floor=int(floor)\n",
    "    except:\n",
    "        print >>sys.stderr,\"Unable to parse floor; disabling threshold\"\n",
    "        floor=0\n",
    "    nbc=NBClassifier(alpha=alpha, floor=floor)\n",
    "    nbc.fit(sys.stdin)\n",
    "    nbc.verbose='verbose' in os.environ\n",
    "    \n",
    "    print >>sys.stderr, \"Processed {0} records\".format(len(nbc.doc_classes))\n",
    "    print >>sys.stderr, \"Classes:\"\n",
    "    for classid in nbc.class_counts:\n",
    "        print >>sys.stderr, \"    {0: <4.4s}: {1} terms, {2} docs, {3:.3f} prior\".format(\n",
    "            classid,\n",
    "            len(nbc.cond_probs[classid]),\n",
    "            nbc.class_counts[classid],\n",
    "            nbc.class_priors[classid],\n",
    "        )\n",
    "        if nbc.verbose:\n",
    "            for term, cond in itertools.islice(sorted(nbc.cond_probs[classid].items(),key=lambda x: -x[1]),10):\n",
    "                print >>sys.stderr, \"        {0}:\\t{1}\".format(term, cond)\n",
    "    \n",
    "    preds=[]\n",
    "    matches=[]\n",
    "    probs=[]\n",
    "    for docid, actual in nbc.doc_classes.items():\n",
    "        posteriors=nbc.predict_proba(nbc.doc_term_counts[docid])\n",
    "        probs.append(posteriors)\n",
    "        pred=max(posteriors, key=lambda x: posteriors[x])\n",
    "        preds.append(pred)\n",
    "        matches.append(pred==actual)\n",
    "        s='{0}\\t{1:d}\\t{2:d}'.format(docid, actual=='spam', pred=='spam')\n",
    "        for key in sorted(nbc.class_priors):\n",
    "            s+='\\t{0:.3f}'.format(posteriors[key])\n",
    "\n",
    "        print s\n",
    "        if nbc.verbose:\n",
    "            posteriors=nbc.predict_proba(nbc.doc_term_counts[docid])\n",
    "            print >>sys.stderr, '{0: <20.20s}  pred: {1: <4.4}  match: {2:1d}  {3}'.format(\n",
    "                docid, pred, matches[-1],\n",
    "            ', '.join('{0}: {1:.2f}'.format(k,v) for k,v in posteriors.items()))\n",
    "    print >>sys.stderr, \"Matches:\",sum(matches),'of',len(matches)\n",
    "    print >>sys.stderr, \"Accuracy:\",1.0*sum(matches)/len(matches)\n",
    "    counts=defaultdict(lambda:0.0)\n",
    "    for pred, match in zip(preds, matches):\n",
    "        tag=''\n",
    "        if match:\n",
    "            tag += 't'\n",
    "        else:\n",
    "            tag += 'f'\n",
    "        if pred=='spam':\n",
    "            tag += 'p'\n",
    "        else:\n",
    "            tag += 'n'\n",
    "        counts[tag] += 1\n",
    "    for k,v in counts.items():\n",
    "        print >>sys.stderr, \"{0}: {1}\".format(k,v)\n",
    "    if counts['tp']+counts['fp'] > 0:\n",
    "        print >>sys.stderr, \"Precision: {0:.3f}\".format(\n",
    "            counts['tp']/(counts['tp']+counts['fp']))\n",
    "    if counts['tp']+counts['fn'] > 0:\n",
    "        print >>sys.stderr, \"Recall:    {0:<.3f}\".format(\n",
    "            counts['tp']/(counts['tp']+counts['fn']))\n",
    "    print >>sys.stderr, \"Using alpha={0}, floor={1}\".format(alpha, floor)\n",
    "    print >>sys.stderr, \"Omitted {0} terms due to floor\".format(nbc.floor_omitted)\n",
    "    print >>sys.stderr, \"A document had terms missing from a class {0} times\".format(nbc.zeros)\n",
    "\n",
    "if __name__ == '__main__':\n",
    "    main()"
   ]
  },
  {
   "cell_type": "code",
   "execution_count": 545,
   "metadata": {
    "collapsed": false,
    "scrolled": true
   },
   "outputs": [
    {
     "name": "stderr",
     "output_type": "stream",
     "text": [
      "Skipping line 3: expected 4 fields, found 3\n",
      "Skipping line 49: expected 4 fields, found 3\n",
      "Skipping line 59: expected 4 fields, found 1\n",
      "Processed 98 records\n",
      "Classes:\n",
      "    ham : 2662 terms, 55 docs, -0.578 prior\n",
      "    spam: 3708 terms, 43 docs, -0.824 prior\n",
      "Matches: 98 of 98\n",
      "Accuracy: 1.0\n",
      "tn: 55.0\n",
      "tp: 43.0\n",
      "Precision: 1.000\n",
      "Recall:    1.000\n",
      "Using alpha=0.0, floor=0\n",
      "Omitted 0 terms due to floor\n",
      "A document had terms missing from a class 98 times\n"
     ]
    }
   ],
   "source": [
    "%%bash\n",
    "chmod +x hw2.3-mapper.py hw2.3-reducer.py\n",
    "export alpha=0\n",
    "cat enronemail_1h.txt | ./hw2.3-mapper.py | ./hw2.3-reducer.py > tmp.out"
   ]
  },
  {
   "cell_type": "code",
   "execution_count": 458,
   "metadata": {
    "collapsed": false
   },
   "outputs": [
    {
     "name": "stdout",
     "output_type": "stream",
     "text": [
      "packageJobJar: [/tmp/hadoop-unjar1299450808783705091/] [] /tmp/streamjob1225005500450488088.jar tmpDir=null\r\n"
     ]
    }
   ],
   "source": [
    "!rm -fr hw2.3-output\n",
    "hh='/opt/hadoop-2.7.1'\n",
    "os.environ['HADOOP_ROOT_LOGGER']='WARN,console'\n",
    "os.environ['HADOOP_CLASSPATH']=os.environ['PWD']+'/MyPartitioner.jar:/usr/share/scala/lib/scala-library.jar'\n",
    "os.environ['HADOOP_HOME']=hh\n",
    "os.environ['PATH']+=':{0}/bin'.format(hh)\n",
    "!hdfs dfs -put -f _partitions.lst .\n",
    "!hadoop jar /opt/hadoop-2.7.1/share/hadoop/tools/lib/hadoop-streaming-2.7.1.jar \\\n",
    " -mapper $PWD/hw2.3-mapper.py \\\n",
    " -reducer  $PWD/hw2.3-reducer.py \\\n",
    " -input file://$PWD/enronemail_1h.txt \\\n",
    " -output file://$PWD/hw2.3-output \\\n",
    " -numReduceTasks 1"
   ]
  },
  {
   "cell_type": "code",
   "execution_count": 459,
   "metadata": {
    "collapsed": false
   },
   "outputs": [],
   "source": [
    "%matplotlib inline\n",
    "import pandas as pd\n",
    "import matplotlib.pyplot as plt\n",
    "import numpy as np\n",
    "\n",
    "def read_data(filename):\n",
    "    data=pd.read_csv(filename, sep='\\t',header=None)\n",
    "    data.columns=['id','actual', 'pred', 'p_ham', 'p_spam']\n",
    "    data.index=data[['id']]\n",
    "    return data[['actual', 'pred', 'p_ham', 'p_spam']]\n",
    "data=read_data('hw2.3-output/part-00000')"
   ]
  },
  {
   "cell_type": "code",
   "execution_count": 460,
   "metadata": {
    "collapsed": false
   },
   "outputs": [
    {
     "name": "stdout",
     "output_type": "stream",
     "text": [
      "Error rate: 0.0\n"
     ]
    },
    {
     "data": {
      "image/png": "[encoded data removed]",
      "text/plain": [
       "<matplotlib.figure.Figure at 0x7f8fc1c7a950>"
      ]
     },
     "metadata": {},
     "output_type": "display_data"
    },
    {
     "data": {
      "image/png": "[encoded data removed]",
      "text/plain": [
       "<matplotlib.figure.Figure at 0x7f8fc2210050>"
      ]
     },
     "metadata": {},
     "output_type": "display_data"
    }
   ],
   "source": [
    "def plot(series,labels,cls):\n",
    "    series=np.asarray(np.exp(series))\n",
    "    plt.hist(series, bins=20, log=True,label=labels, normed=True)\n",
    "    plt.title(r'$\\Pr({0})$'.format(cls))\n",
    "    plt.legend()\n",
    "    plt.show()\n",
    "print('Error rate: {0}'.format(1.0*sum(data['actual']!=data['pred'])/len(data)))\n",
    "plot(data[['p_ham']], 'ham', 'ham')\n",
    "plot(data[['p_spam']], 'spam', 'spam')"
   ]
  },
  {
   "cell_type": "markdown",
   "metadata": {},
   "source": [
    "### HW2.4\n",
    "Repeat HW2.3 with the following modification: use Laplace plus-one smoothing. Compare the misclassifcation error rates for 2.3 versus 2.4 and explain the differences.\n",
    "\n",
    "For a quick reference on the construction of the Multinomial NAIVE BAYES classifier that you will code,\n",
    "please consult the \"Document Classification\" section of the following wikipedia page:\n",
    "\n",
    "https://en.wikipedia.org/wiki/Naive_Bayes_classifier#Document_classification\n",
    "\n",
    "OR the original paper by the curators of the Enron email data:\n",
    "\n",
    "http://www.aueb.gr/users/ion/docs/ceas2006_paper.pdf"
   ]
  },
  {
   "cell_type": "code",
   "execution_count": 461,
   "metadata": {
    "collapsed": false
   },
   "outputs": [
    {
     "name": "stdout",
     "output_type": "stream",
     "text": [
      "packageJobJar: [/tmp/hadoop-unjar2914116536082364161/] [] /tmp/streamjob7403811963149859561.jar tmpDir=null\r\n"
     ]
    }
   ],
   "source": [
    "!rm -fr hw2.4-output\n",
    "hh='/opt/hadoop-2.7.1'\n",
    "os.environ['HADOOP_ROOT_LOGGER']='WARN,console'\n",
    "os.environ['HADOOP_CLASSPATH']=os.environ['PWD']+'/MyPartitioner.jar:/usr/share/scala/lib/scala-library.jar'\n",
    "os.environ['HADOOP_HOME']=hh\n",
    "os.environ['PATH']+=':{0}/bin'.format(hh)\n",
    "!hdfs dfs -put -f _partitions.lst .\n",
    "!hadoop jar /opt/hadoop-2.7.1/share/hadoop/tools/lib/hadoop-streaming-2.7.1.jar \\\n",
    " -cmdenv alpha=1.0 \\\n",
    " -mapper $PWD/hw2.3-mapper.py \\\n",
    " -reducer  $PWD/hw2.3-reducer.py \\\n",
    " -input file://$PWD/enronemail_1h.txt \\\n",
    " -output file://$PWD/hw2.4-output \\\n",
    " -numReduceTasks 1"
   ]
  },
  {
   "cell_type": "code",
   "execution_count": 462,
   "metadata": {
    "collapsed": false,
    "scrolled": false
   },
   "outputs": [
    {
     "name": "stdout",
     "output_type": "stream",
     "text": [
      "Error rate: 0.0\n"
     ]
    },
    {
     "data": {
      "image/png": "[encoded data removed]",
      "text/plain": [
       "<matplotlib.figure.Figure at 0x7f8fc1c12ed0>"
      ]
     },
     "metadata": {},
     "output_type": "display_data"
    },
    {
     "data": {
      "image/png": "[encoded data removed]",
      "text/plain": [
       "<matplotlib.figure.Figure at 0x7f8fc2122890>"
      ]
     },
     "metadata": {},
     "output_type": "display_data"
    }
   ],
   "source": [
    "data2=data=read_data('hw2.4-output/part-00000')\n",
    "print('Error rate: {0}'.format(1.0*sum(data2['actual']!=data2['pred'])/len(data2)))\n",
    "plot(np.hstack((data[['p_ham']],data2[['p_ham']])), [r'ham $\\alpha=0$', r'ham $\\alpha=1$'], 'ham')\n",
    "plot(np.hstack((data[['p_spam']],data2[['p_spam']])), [r'spam $\\alpha=0$', r'spam $\\alpha=1$'], 'spam')"
   ]
  },
  {
   "cell_type": "markdown",
   "metadata": {},
   "source": [
    "The spam probabilities rose by several orders of magnitude, whereas the ham probabilities stayed closer. The counts look off since I set the `normed=True` parameter for the histogram."
   ]
  },
  {
   "cell_type": "markdown",
   "metadata": {},
   "source": [
    "### HW2.5.\n",
    "Repeat HW2.4. This time when modeling and classification ignore tokens with a frequency of less than three (3) in the training set. How does it affect the misclassifcation error of learnt naive multinomial Bayesian Classifier on the training dataset?"
   ]
  },
  {
   "cell_type": "code",
   "execution_count": 463,
   "metadata": {
    "collapsed": false
   },
   "outputs": [
    {
     "name": "stdout",
     "output_type": "stream",
     "text": [
      "packageJobJar: [/tmp/hadoop-unjar3358820304963706168/] [] /tmp/streamjob4013402085016712401.jar tmpDir=null\r\n"
     ]
    }
   ],
   "source": [
    "!rm -fr hw2.5-output\n",
    "hh='/opt/hadoop-2.7.1'\n",
    "os.environ['HADOOP_ROOT_LOGGER']='WARN,console'\n",
    "os.environ['HADOOP_CLASSPATH']=os.environ['PWD']+'/MyPartitioner.jar:/usr/share/scala/lib/scala-library.jar'\n",
    "os.environ['HADOOP_HOME']=hh\n",
    "os.environ['PATH']+=':{0}/bin'.format(hh)\n",
    "!hdfs dfs -put -f _partitions.lst .\n",
    "!hadoop jar /opt/hadoop-2.7.1/share/hadoop/tools/lib/hadoop-streaming-2.7.1.jar \\\n",
    " -cmdenv alpha=1.0 \\\n",
    " -cmdenv floor=3 \\\n",
    " -mapper $PWD/hw2.3-mapper.py \\\n",
    " -reducer  $PWD/hw2.3-reducer.py \\\n",
    " -input file://$PWD/enronemail_1h.txt \\\n",
    " -output file://$PWD/hw2.5-output \\\n",
    " -numReduceTasks 1"
   ]
  },
  {
   "cell_type": "code",
   "execution_count": 464,
   "metadata": {
    "collapsed": false,
    "scrolled": false
   },
   "outputs": [
    {
     "name": "stdout",
     "output_type": "stream",
     "text": [
      "Error rate: 0.0\n"
     ]
    },
    {
     "data": {
      "image/png": "[encoded data removed]",
      "text/plain": [
       "<matplotlib.figure.Figure at 0x7f8fc277eed0>"
      ]
     },
     "metadata": {},
     "output_type": "display_data"
    },
    {
     "data": {
      "image/png": "[encoded data removed]",
      "text/plain": [
       "<matplotlib.figure.Figure at 0x7f8fc1e78c90>"
      ]
     },
     "metadata": {},
     "output_type": "display_data"
    }
   ],
   "source": [
    "data3=data=read_data('hw2.5-output/part-00000')\n",
    "print('Error rate: {0}'.format(1.0*sum(data3['actual']!=data3['pred'])/len(data3)))\n",
    "plot(np.hstack((data2[['p_ham']],data3[['p_ham']])), [r'ham $\\alpha=1$', r'ham $\\alpha=1$, floor=3'], 'ham')\n",
    "plot(np.hstack((data2[['p_spam']],data3[['p_spam']])), [r'spam $\\alpha=1$', r'spam $\\alpha=1$, floor=3'], 'spam')"
   ]
  },
  {
   "cell_type": "markdown",
   "metadata": {},
   "source": [
    "### HW2.6\n",
    "Benchmark your code with the Python SciKit-Learn implementation of the multinomial Naive Bayes algorithm\n",
    "\n",
    "It always a good idea to benchmark your solutions against publicly available libraries such as SciKit-Learn, The Machine Learning toolkit available in Python. In this exercise, we benchmark ourselves against the SciKit-Learn implementation of multinomial Naive Bayes.  For more information on this implementation see: http://scikit-learn.org/stable/modules/naive_bayes.html more  \n",
    "\n",
    "In this exercise, please complete the following:\n",
    "\n",
    "* Run the Multinomial Naive Bayes algorithm (using default settings) from SciKit-Learn over the same training data used in HW2.5 and report the misclassification error (please note some data preparation might be needed to get the Multinomial Naive Bayes algorithm from SkiKit-Learn to run over this dataset)\n",
    "* Prepare a table to present your results, where rows correspond to approach used (SkiKit-Learn versus your Hadoop implementation) and the column presents the training misclassification error\n",
    "* Explain/justify any differences in terms of training error rates over the dataset in HW2.5 between your Multinomial Naive Bayes implementation (in Map Reduce) versus the Multinomial Naive Bayes implementation in SciKit-Learn "
   ]
  },
  {
   "cell_type": "code",
   "execution_count": 498,
   "metadata": {
    "collapsed": false
   },
   "outputs": [],
   "source": [
    "#recycle the tokenizer from 2.3\n",
    "import re\n",
    "strip_re=re.compile(r'\\W+')\n",
    "split_re=re.compile(r'''(?:\\s|\\.|[-/:,' \"@\\|+*]|\\\\)+''')\n",
    "def tokenize(field):\n",
    "    field=re.sub(r\"'ll\\b\", \" will\", field)\n",
    "    field=re.sub(r\"n't\\b\", \" not\", field)\n",
    "    field=re.sub(r\"'re\\b\", \" are\", field)\n",
    "    field=re.sub(r\"\\bit's\\b\", \"it is\", field)\n",
    "    for word in split_re.split(field):\n",
    "        word=strip_re.sub('', word)\n",
    "        if word:\n",
    "            yield word"
   ]
  },
  {
   "cell_type": "code",
   "execution_count": 499,
   "metadata": {
    "collapsed": true
   },
   "outputs": [],
   "source": [
    "from sklearn.feature_extraction.text import CountVectorizer\n",
    "from sklearn.naive_bayes import MultinomialNB\n",
    "from sklearn.pipeline import Pipeline\n",
    "pl=Pipeline([\n",
    "        ('cv', CountVectorizer(tokenizer=tokenize)),\n",
    "        ('nb', MultinomialNB())\n",
    "    ])"
   ]
  },
  {
   "cell_type": "code",
   "execution_count": 571,
   "metadata": {
    "collapsed": false
   },
   "outputs": [],
   "source": [
    "def read_dataset():\n",
    "    X=[]\n",
    "    y=[]\n",
    "    with open('enronemail_1h.txt') as f:\n",
    "        for line in f:\n",
    "            try:\n",
    "                (docid,spam,subject,body)=line.strip().split('\\t')\n",
    "                line=''\n",
    "                if subject!='NA':\n",
    "                    line+=subject\n",
    "                if body!='NA':\n",
    "                    line+=body\n",
    "                X.append(line)\n",
    "                y.append(bool(spam=='1'))\n",
    "            except ValueError,e:\n",
    "                continue\n",
    "    return np.asarray(X),np.asarray(y)"
   ]
  },
  {
   "cell_type": "code",
   "execution_count": 645,
   "metadata": {
    "collapsed": false,
    "scrolled": true
   },
   "outputs": [
    {
     "data": {
      "image/png": "[encoded data removed]",
      "text/plain": [
       "<matplotlib.figure.Figure at 0x7f8fc1f4f610>"
      ]
     },
     "metadata": {},
     "output_type": "display_data"
    }
   ],
   "source": [
    "from sklearn.metrics import accuracy_score\n",
    "def plot_errors():\n",
    "    X,y = read_dataset()\n",
    "    cv=pl.named_steps['cv']\n",
    "    nb=pl.named_steps['nb']\n",
    "    plt.figure(figsize=(15,15))\n",
    "    for alpha in [0,1]:\n",
    "        error=[]\n",
    "        for df in range(0,50):\n",
    "            nb.set_params(alpha=alpha)\n",
    "            cv.set_params(min_df=df)\n",
    "            tx=cv.fit_transform(X)\n",
    "            nb.fit(tx, y)\n",
    "            y_pred=nb.predict(tx)\n",
    "            error.append(1-accuracy_score(y,y_pred))\n",
    "        df=pd.DataFrame(np.asarray([error,range(0,50)]).T, columns=['error', 'df_min'])\n",
    "        plt.plot(df[['df_min']],df[['error']],label=r'$\\alpha={0:.1f}$'.format(alpha))\n",
    "    plt.title('Error')\n",
    "    plt.legend()\n",
    "    plt.xlabel('$df_{min}$')\n",
    "    plt.ylabel('Misclassification error')\n",
    "    plt.show()\n",
    "plot_errors()"
   ]
  },
  {
   "cell_type": "markdown",
   "metadata": {},
   "source": [
    "We see that smoothing initially makes the effect of trimming infrequent words more pronounced. The error does not rise monotonically as the cutoff rises since some highly discriminating words may occur an intermediate number of times.  The plots converge once the cutoff/counts become high enough that smoothing fails to matter."
   ]
  },
  {
   "cell_type": "markdown",
   "metadata": {},
   "source": [
    "### HW 2.6.1 OPTIONAL (note this exercise is a stretch HW and optional)\n",
    "* Run the Bernoulli Naive Bayes algorithm from SciKit-Learn (using default settings) over the same training data used in HW2.6 and report the misclassification error \n",
    "* Discuss the performance differences in terms of misclassification error rates over the dataset in HW2.5 between the  Multinomial Naive Bayes implementation in SciKit-Learn with the  Bernoulli Naive Bayes implementation in SciKit-Learn. Why such big differences. Explain. \n",
    "\n",
    "Which approach to Naive Bayes would you recommend for SPAM detection? Justify your selection."
   ]
  },
  {
   "cell_type": "markdown",
   "metadata": {},
   "source": [
    "### HW2.7 OPTIONAL (note this exercise is a stretch HW and optional)\n",
    "\n",
    "The Enron SPAM data in the following folder enron1-Training-Data-RAW is in raw text form (with subfolders for SPAM and HAM that contain raw email messages in the following form:\n",
    "\n",
    "* Line 1 contains the subject\n",
    "* The remaining lines contain the body of the email message.\n",
    "\n",
    "In Python write a script to produce a TSV file called train-Enron-1.txt that has a similar format as the enronemail_1h.txt that you have been using so far. Please pay attend to funky characters and tabs. Check your resulting formated email data in Excel and in Python (e.g., count up the number of fields in each row; the number of SPAM mails and the number of HAM emails). Does each row correspond to an email record with four values? Note: use \"NA\" to denote empty field values."
   ]
  },
  {
   "cell_type": "markdown",
   "metadata": {},
   "source": [
    "### HW2.8 OPTIONAL\n",
    "Using Hadoop Map-Reduce write job(s) to perform the following:\n",
    " \n",
    " * Train a multinomial Naive Bayes Classifier with Laplace plus one smoothing using the data extracted in HW2.7 (i.e., train-Enron-1.txt). Use all white-space delimitted tokens as independent input variables (assume spaces, fullstops, commas as delimiters). Drop tokens with a frequency of less than three (3).\n",
    " * Test the learnt classifier using enronemail_1h.txt and report the misclassification error rate. Remember to use all white-space delimitted tokens as independent input variables (assume spaces, fullstops, commas as delimiters). How do we treat tokens in the test set that do not appear in the training set?"
   ]
  },
  {
   "cell_type": "markdown",
   "metadata": {},
   "source": [
    "### HW2.8.1 OPTIONAL\n",
    "* Run  both the Multinomial Naive Bayes and the Bernoulli Naive Bayes algorithms from SciKit-Learn (using default settings) over the same training data used in HW2.8 and report the misclassification error on both the training set and the testing set\n",
    "* Prepare a table to present your results, where rows correspond to approach used (SciKit-Learn Multinomial NB; SciKit-Learn Bernouili NB; Your Hadoop implementation)  and the columns presents the training misclassification error, and the misclassification error on the test data set\n",
    "* Discuss the performance differences in terms of misclassification error rates over the test and training datasets by the different implementations. Which approch (Bernouili versus Multinomial) would you recommend for SPAM detection? Justify your selection."
   ]
  },
  {
   "cell_type": "markdown",
   "metadata": {},
   "source": [
    "~~~~  \n",
    "END OF HOMEWORK"
   ]
  }
 ],
 "metadata": {
  "kernelspec": {
   "display_name": "Python 2",
   "language": "python",
   "name": "python2"
  },
  "language_info": {
   "codemirror_mode": {
    "name": "ipython",
    "version": 2
   },
   "file_extension": ".py",
   "mimetype": "text/x-python",
   "name": "python",
   "nbconvert_exporter": "python",
   "pygments_lexer": "ipython2",
   "version": "2.7.11"
  }
 },
 "nbformat": 4,
 "nbformat_minor": 0
}
