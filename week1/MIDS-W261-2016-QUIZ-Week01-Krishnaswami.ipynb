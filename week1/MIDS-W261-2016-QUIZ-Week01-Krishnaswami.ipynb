{
 "cells": [
  {
   "cell_type": "markdown",
   "metadata": {},
   "source": [
    "[Natarajan Krishnaswami](mailto:natarajan@krishnaswami.org)  \n",
    "W261 Machine Learning at Scale  \n",
    "Spring 2016 / Section 2  \n",
    "Week 1 Async Quiz  \n",
    "2016-01-01"
   ]
  },
  {
   "cell_type": "markdown",
   "metadata": {
    "collapsed": false
   },
   "source": [
    "# Map"
   ]
  },
  {
   "cell_type": "code",
   "execution_count": 80,
   "metadata": {
    "collapsed": false
   },
   "outputs": [
    {
     "name": "stdout",
     "output_type": "stream",
     "text": [
      "Overwriting mapper.py\n"
     ]
    }
   ],
   "source": [
    "%%writefile mapper.py\n",
    "#!/usr/bin/python\n",
    "import sys\n",
    "import re\n",
    "count = 0\n",
    "WORD_RE = re.compile(r\"[\\w']+\")\n",
    "\n",
    "findword = sys.argv[1]\n",
    "# loop over lines in file iterable\n",
    "for line in sys.stdin:\n",
    "    # examine words\n",
    "    for word in WORD_RE.findall(line):\n",
    "        # to find matches to the query word\n",
    "        if word == findword:\n",
    "            count += 1\n",
    "            # counting lines rather than occurences, so skip to next line after a match\n",
    "            break\n",
    "print count"
   ]
  },
  {
   "cell_type": "code",
   "execution_count": 78,
   "metadata": {
    "collapsed": true
   },
   "outputs": [],
   "source": [
    "!chmod a+x mapper.py"
   ]
  },
  {
   "cell_type": "markdown",
   "metadata": {},
   "source": [
    "# Reduce\n",
    "Since we don't pass the chunk filename to the reducer, we can't give good error diagnostics."
   ]
  },
  {
   "cell_type": "code",
   "execution_count": 34,
   "metadata": {
    "collapsed": false
   },
   "outputs": [
    {
     "name": "stdout",
     "output_type": "stream",
     "text": [
      "Overwriting reducer.py\n"
     ]
    }
   ],
   "source": [
    "%%writefile reducer.py\n",
    "#!/usr/bin/python\n",
    "import sys, os\n",
    "sum = 0\n",
    "for line in sys.stdin:\n",
    "    try:\n",
    "        sum += int(line.strip())\n",
    "    except:\n",
    "        print >>sys.stderr, \"Error parsing {0} as int\".format(line)\n",
    "print sum"
   ]
  },
  {
   "cell_type": "code",
   "execution_count": 35,
   "metadata": {
    "collapsed": true
   },
   "outputs": [],
   "source": [
    "!chmod a+x reducer.py"
   ]
  },
  {
   "cell_type": "markdown",
   "metadata": {},
   "source": [
    "# Write script to file\n",
    "I shuffled the script lines a bit to plug in the usage message.  \n",
    "I tried as an experiment avoiding a temporary copy on disk and limiting parallelism to the number of CPUs by by switching to GNU `parallel`. However, using `parallel` misses the point of the activity so I changed it back."
   ]
  },
  {
   "cell_type": "code",
   "execution_count": 90,
   "metadata": {
    "collapsed": false
   },
   "outputs": [
    {
     "name": "stdout",
     "output_type": "stream",
     "text": [
      "Overwriting pGrepCount.sh\n"
     ]
    }
   ],
   "source": [
    "%%writefile pGrepCount.sh\n",
    "usage()\n",
    "{\n",
    "    echo Parallel grep\n",
    "    echo \"usage: pGrepCount [filename] [word] [chunksize]\"\n",
    "    echo \"Searches file <filename> and counts the number of lines containing <word>.\"\n",
    "    echo \"Note: <filename> will be split in chunks of up to <chunksize> bytes each.\"\n",
    "    echo \"Lines containing <word> will be counted for each chunk in parallel\"\n",
    "}\n",
    "\n",
    "if [ $# -lt 3 ]; then\n",
    "    usage >&2\n",
    "    exit 1\n",
    "fi\n",
    "\n",
    "ORIGINAL_FILE=$1\n",
    "FIND_WORD=$2\n",
    "BLOCK_SIZE=$3\n",
    "CHUNK_FILE_PREFIX=$ORIGINAL_FILE.split\n",
    "SORTED_CHUNK_FILES=$CHUNK_FILE_PREFIX*.sorted\n",
    "\n",
    "#CLEANUP\n",
    "rm -f ./${CHUNK_FILE_PREFIX}*\n",
    "    \n",
    "#Splitting $ORIGINAL_FILE INTO CHUNKS\n",
    "split -C $BLOCK_SIZE $ORIGINAL_FILE $CHUNK_FILE_PREFIX\n",
    "#DISTRIBUTE\n",
    "for file in $CHUNK_FILE_PREFIX*\n",
    "do\n",
    "    #grep -i $FIND_WORD $file|wc -l >$file.intermediateCount &\n",
    "    ./mapper.py $FIND_WORD <$file >$file.intermediateCount &\n",
    "done\n",
    "wait\n",
    "#MERGEING INTERMEDIATE COUNT CAN TAKE THE FIRST COLUMN AND TOTOL...\n",
    "#numOfInstances=$(cat *.intermediateCount | cut -f 1 | paste -sd+ - |bc)\n",
    "numOfInstances=$(cat *.intermediateCount | ./reducer.py)\n",
    "# Preceding is approx equiv to \n",
    "#   numOfInstances=$(parallel --pipe --line-buffer --block-size $BLOCK_SIZE --no-notice ./mapper.py $FIND_WORD < $ORIGINAL_FILE | ./reducer.py)\n",
    "echo \"found [$numOfInstances] [$FIND_WORD] in the file [$ORIGINAL_FILE]\""
   ]
  },
  {
   "cell_type": "markdown",
   "metadata": {},
   "source": [
    "# Run the file"
   ]
  },
  {
   "cell_type": "code",
   "execution_count": 85,
   "metadata": {
    "collapsed": false
   },
   "outputs": [
    {
     "name": "stdout",
     "output_type": "stream",
     "text": [
      "Parallel grep\r\n",
      "usage: pGrepCount [filename] [word] [chunksize]\r\n",
      "Searches file <filename> and counts the number of lines containing <word>.\r\n",
      "Note: <filename> will be split in chunks of up to <chunksize> bytes each.\r\n",
      "Lines containing <word> will be counted for each chunk in parallel\r\n"
     ]
    }
   ],
   "source": [
    "!chmod a+x pGrepCount.sh\n",
    "!./pGrepCount.sh"
   ]
  },
  {
   "cell_type": "code",
   "execution_count": 91,
   "metadata": {
    "collapsed": false
   },
   "outputs": [
    {
     "name": "stdout",
     "output_type": "stream",
     "text": [
      "found [11] [COPYRIGHT] in the file [LICENSE.txt]\r\n"
     ]
    }
   ],
   "source": [
    "!./pGrepCount.sh LICENSE.txt COPYRIGHT 4096"
   ]
  },
  {
   "cell_type": "markdown",
   "metadata": {},
   "source": [
    "## Sanity check"
   ]
  },
  {
   "cell_type": "code",
   "execution_count": 71,
   "metadata": {
    "collapsed": false
   },
   "outputs": [
    {
     "name": "stdout",
     "output_type": "stream",
     "text": [
      "11\r\n"
     ]
    }
   ],
   "source": [
    "!grep COPYRIGHT License.txt | wc -l"
   ]
  }
 ],
 "metadata": {
  "kernelspec": {
   "display_name": "Python 2",
   "language": "python",
   "name": "python2"
  },
  "language_info": {
   "codemirror_mode": {
    "name": "ipython",
    "version": 2
   },
   "file_extension": ".py",
   "mimetype": "text/x-python",
   "name": "python",
   "nbconvert_exporter": "python",
   "pygments_lexer": "ipython2",
   "version": "2.7.11"
  }
 },
 "nbformat": 4,
 "nbformat_minor": 0
}
